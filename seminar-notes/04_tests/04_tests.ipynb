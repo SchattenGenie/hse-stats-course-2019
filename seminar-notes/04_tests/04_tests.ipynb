{
 "cells": [
  {
   "cell_type": "code",
   "execution_count": 1,
   "metadata": {},
   "outputs": [],
   "source": [
    "import numpy as np\n",
    "import pandas as pd\n",
    "import matplotlib.pyplot as plt\n",
    "import seaborn as sns\n",
    "from scipy.stats import norm, expon, beta\n",
    "%matplotlib inline\n",
    "\n",
    "sns.set(font_scale=2)"
   ]
  },
  {
   "cell_type": "markdown",
   "metadata": {},
   "source": [
    "# 1. Критерий Манна-Уитни\n",
    "\n",
    "| Версия сайта | Общее количество визитов | Конверсия | Конверсия в процентах |\n",
    "|--------------|--------------------------|-----------|-----------------------|\n",
    "|  Version 1   | 10283                    | 3714      | 36%                   |\n",
    "|  Version 2   | 2742                     | 1587      | 58%                   |\n",
    "| Version 3    | 2747                     | 1652      | 60%                   |\n",
    "| Version 4    | 3180                     | 1717      | 54%                   |\n",
    "| Version 5    | 2064                     | 1348      | 65%                   |\n",
    "\n",
    "Какой же вариант сайта лучше, а какие статистически объяснимые девиации от их своеобразных средних уровней?\n",
    "\n",
    "##### Критерий Манна-Уитни(рабоче-крестьянский алгоритм)\n",
    "\n",
    "Критерий Манна-Уитни используется для сравнения средних двух групп.\n",
    "\n",
    "Cтатистика U считается следующим образом для двух выборок X и Y: \n",
    "  0. $U_1 = 0$\n",
    "  1. Берутся все пары из двух выборок: $(x_i, y_i)$;\n",
    "  2. Если $x_i > y_i$, то $U_1 += 1$;\n",
    "  3. Если $x_i == y_i$, то $U_1 += 0.5$;\n",
    "  4. Аналогично считается $U_2$ по парам $(y_i, x_i)$;\n",
    "  5. $U = min(U_1, U_2)$\n",
    " \n",
    "При больших размерах выборки:\n",
    "\n",
    "$$U \\sim N\\left(\\frac{mn}{2}, \\frac{mn(n + m + 1)}{12}\\right)$$\n",
    "\n",
    "При большой выборке и __возможных ничьих__ $\\sigma$ считается по-другому:\n",
    "\n",
    "$$\n",
    "\\sigma = \\sqrt{ \\frac{nm}{(m + n) (m + n - 1)} \\cdot \\left[ \\frac{(m + n)^3 - (m + n)}{12} - \\sum \\frac{t_j^3 - t_j}{12} \\right]},\n",
    "$$\n",
    "\n",
    "где $t_j$ -- количество ничьих.\n",
    "\n",
    "\n",
    "#### Замечательность рангового теста Манна-Уитни: \n",
    "\n",
    "  * работает для всех типов данных данных: дискретные, распределённые не нормально;\n",
    "  * не обращает внимание на outliers;\n",
    "  * связан с ROC-AUC.\n",
    "  \n",
    "  \n",
    "https://www.ncbi.nlm.nih.gov/pmc/articles/PMC1120984/"
   ]
  },
  {
   "cell_type": "code",
   "execution_count": 2,
   "metadata": {},
   "outputs": [],
   "source": [
    "data = np.array([\n",
    "    [10283, 3714],\n",
    "    [2742, 1587],\n",
    "    [2747, 1652],\n",
    "    [3180, 1717],\n",
    "    [2064, 1348]\n",
    "])\n",
    "\n",
    "alpha = 0.05 / 5 # 5 потому что бонферотти"
   ]
  },
  {
   "cell_type": "code",
   "execution_count": 3,
   "metadata": {},
   "outputs": [],
   "source": [
    "def mann_whitney(conversion_1, conversion_2, alpha=0.05):\n",
    "    \"\"\"\n",
    "    conversion = (N, n), где N -- общее число визитов, n -- конверсия\n",
    "    True => H_0 отклоняется => средние не равны\n",
    "    \"\"\"\n",
    "    U_1 = conversion_1[1] * (conversion_2[0] - conversion_2[1]) + conversion_1[1] * conversion_2[1] / 2 + (conversion_2[0] - conversion_2[1]) * (conversion_1[0] - conversion_1[1]) / 2\n",
    "    U_2 = conversion_2[1] * (conversion_1[0] - conversion_1[1]) + conversion_1[1] * conversion_2[1] / 2 + (conversion_2[0] - conversion_2[1]) * (conversion_1[0] - conversion_1[1]) / 2\n",
    "    \n",
    "    mean = conversion_1[0] * conversion_2[0] / 2\n",
    "    N = conversion_1[0] + conversion_2[0]\n",
    "    mn = conversion_1[0] * conversion_2[0]\n",
    "    t_1 = (conversion_1[0] - conversion_1[1]) + (conversion_2[0] - conversion_2[1])\n",
    "    t_2 = conversion_1[1] + conversion_2[1]\n",
    "    std = (mn / (N * (N - 1))) * ((N**3 - N) / 12 - \n",
    "                                 (t_1**3 - t_1) / 12 - \n",
    "                                 (t_2**3 - t_2) / 12 )\n",
    "    std = np.sqrt(std)\n",
    "    z = np.abs(min(U_1, U_2) - mean) / std \n",
    "    return z, z > norm.ppf(1 - alpha / 2)"
   ]
  },
  {
   "cell_type": "markdown",
   "metadata": {},
   "source": [
    "### Тест Вальда\n",
    "\n",
    "Статистика на которую мы смотрим:\n",
    "\n",
    "$$T = \\frac{\\hat{p}_1 - \\hat{p}_2}{\\hat{se}}$$\n",
    "\n",
    "Где дисперсия считается следующим образом:\n",
    "\n",
    "$$\\hat{se}^2 = \\hat{se}_1^2 + \\hat{se}_2^2$$\n",
    "\n",
    "$$\\hat{se}_1^2 = \\frac{p_1 (1 - p_1)}{n_1}$$\n",
    "\n",
    "Тестовая статистика имеет следующее распределение:\n",
    "\n",
    "$$T \\sim \\mathcal{N}(0, 1)$$"
   ]
  },
  {
   "cell_type": "code",
   "execution_count": 4,
   "metadata": {},
   "outputs": [],
   "source": [
    "from scipy.stats import norm\n",
    "def wald_test(conversion_1, conversion_2, alpha=0.05):\n",
    "    \"\"\"\n",
    "    Проверяется Вальд для Бернулли. \n",
    "    True => H_0 отклоняется => средние не равны.\n",
    "    \"\"\"\n",
    "    p_1 = conversion_1[1] / conversion_1[0]\n",
    "    p_2 = conversion_2[1] / conversion_2[0]\n",
    "    se_1 = np.sqrt(p_1 * (1 - p_1) / conversion_1[0])\n",
    "    se_2 = np.sqrt(p_2 * (1 - p_2) / conversion_2[0])\n",
    "    se = np.sqrt(se_1**2 + se_2**2)\n",
    "    return np.abs((p_1 - p_2) / se), np.abs((p_1 - p_2) / se) > norm.ppf(1 - alpha / 2)"
   ]
  },
  {
   "cell_type": "code",
   "execution_count": 5,
   "metadata": {},
   "outputs": [
    {
     "name": "stdout",
     "output_type": "stream",
     "text": [
      "0.0\n",
      "Версия сайта 1 с конверсией 0.36 статистически не отличается от версии 1 с конверсией 0.36\n",
      "\n",
      "20.607089406964572\n",
      "Версия сайта 1 с конверсией 0.36 статистически отличается от версии 2 с конверсией 0.58\n",
      "\n",
      "22.72339288118447\n",
      "Версия сайта 1 с конверсией 0.36 статистически отличается от версии 3 с конверсией 0.60\n",
      "\n",
      "17.95738651374319\n",
      "Версия сайта 1 с конверсией 0.36 статистически отличается от версии 4 с конверсией 0.54\n",
      "\n",
      "24.60758946032845\n",
      "Версия сайта 1 с конверсией 0.36 статистически отличается от версии 5 с конверсией 0.65\n",
      "\n",
      "20.607089406964572\n",
      "Версия сайта 2 с конверсией 0.58 статистически отличается от версии 1 с конверсией 0.36\n",
      "\n",
      "0.0\n",
      "Версия сайта 2 с конверсией 0.58 статистически не отличается от версии 2 с конверсией 0.58\n",
      "\n",
      "1.7027432222795187\n",
      "Версия сайта 2 с конверсией 0.58 статистически не отличается от версии 3 с конверсией 0.60\n",
      "\n",
      "3.000484275270596\n",
      "Версия сайта 2 с конверсией 0.58 статистически отличается от версии 4 с конверсией 0.54\n",
      "\n",
      "5.230413282646482\n",
      "Версия сайта 2 с конверсией 0.58 статистически отличается от версии 5 с конверсией 0.65\n",
      "\n",
      "22.72339288118447\n",
      "Версия сайта 3 с конверсией 0.60 статистически отличается от версии 1 с конверсией 0.36\n",
      "\n",
      "1.7027432222795187\n",
      "Версия сайта 3 с конверсией 0.60 статистически не отличается от версии 2 с конверсией 0.58\n",
      "\n",
      "0.0\n",
      "Версия сайта 3 с конверсией 0.60 статистически не отличается от версии 3 с конверсией 0.60\n",
      "\n",
      "4.76231492879652\n",
      "Версия сайта 3 с конверсией 0.60 статистически отличается от версии 4 с конверсией 0.54\n",
      "\n",
      "3.664155935872036\n",
      "Версия сайта 3 с конверсией 0.60 статистически отличается от версии 5 с конверсией 0.65\n",
      "\n",
      "17.95738651374319\n",
      "Версия сайта 4 с конверсией 0.54 статистически отличается от версии 1 с конверсией 0.36\n",
      "\n",
      "3.000484275270596\n",
      "Версия сайта 4 с конверсией 0.54 статистически отличается от версии 2 с конверсией 0.58\n",
      "\n",
      "4.76231492879652\n",
      "Версия сайта 4 с конверсией 0.54 статистически отличается от версии 3 с конверсией 0.60\n",
      "\n",
      "0.0\n",
      "Версия сайта 4 с конверсией 0.54 статистически не отличается от версии 4 с конверсией 0.54\n",
      "\n",
      "8.123094352356361\n",
      "Версия сайта 4 с конверсией 0.54 статистически отличается от версии 5 с конверсией 0.65\n",
      "\n",
      "24.60758946032845\n",
      "Версия сайта 5 с конверсией 0.65 статистически отличается от версии 1 с конверсией 0.36\n",
      "\n",
      "5.230413282646482\n",
      "Версия сайта 5 с конверсией 0.65 статистически отличается от версии 2 с конверсией 0.58\n",
      "\n",
      "3.664155935872036\n",
      "Версия сайта 5 с конверсией 0.65 статистически отличается от версии 3 с конверсией 0.60\n",
      "\n",
      "8.123094352356361\n",
      "Версия сайта 5 с конверсией 0.65 статистически отличается от версии 4 с конверсией 0.54\n",
      "\n",
      "0.0\n",
      "Версия сайта 5 с конверсией 0.65 статистически не отличается от версии 5 с конверсией 0.65\n",
      "\n"
     ]
    }
   ],
   "source": [
    "from collections import defaultdict\n",
    "results_mww = defaultdict(lambda: defaultdict(bool))\n",
    "z_mww = []\n",
    "for i in np.arange(len(data)):\n",
    "    for j in np.arange(len(data)):\n",
    "        z, flag = mann_whitney(data[i], data[j], alpha=alpha)\n",
    "        print(z)\n",
    "        z_mww.append(z)\n",
    "        results_mww[i][j] = flag\n",
    "        if results_mww[i][j]:\n",
    "            print('Версия сайта {} с конверсией {:.2f} статистически отличается от версии {} с конверсией {:.2f}'.format(i+1, \n",
    "                                                                                              data[i][1] / data[i][0],\n",
    "                                                                                              j+1,\n",
    "                                                                                              data[j][1] / data[j][0]))\n",
    "        else:\n",
    "            print('Версия сайта {} с конверсией {:.2f} статистически не отличается от версии {} с конверсией {:.2f}'.format(i+1, \n",
    "                                                                                                         data[i][1] / data[i][0], \n",
    "                                                                                                         j+1,\n",
    "                                                                                                         data[j][1] / data[j][0]))\n",
    "        print()"
   ]
  },
  {
   "cell_type": "code",
   "execution_count": 6,
   "metadata": {},
   "outputs": [
    {
     "name": "stdout",
     "output_type": "stream",
     "text": [
      "0.0\n",
      "Версия сайта 1 с конверсией 0.36 статистически не отличается от версии 1 с конверсией 0.36\n",
      "\n",
      "20.620895355293204\n",
      "Версия сайта 1 с конверсией 0.36 статистически отличается от версии 2 с конверсией 0.58\n",
      "\n",
      "22.93344269021802\n",
      "Версия сайта 1 с конверсией 0.36 статистически отличается от версии 3 с конверсией 0.60\n",
      "\n",
      "17.826653746799323\n",
      "Версия сайта 1 с конверсией 0.36 статистически отличается от версии 4 с конверсией 0.54\n",
      "\n",
      "25.388815771018628\n",
      "Версия сайта 1 с конверсией 0.36 статистически отличается от версии 5 с конверсией 0.65\n",
      "\n",
      "20.620895355293204\n",
      "Версия сайта 2 с конверсией 0.58 статистически отличается от версии 1 с конверсией 0.36\n",
      "\n",
      "0.0\n",
      "Версия сайта 2 с конверсией 0.58 статистически не отличается от версии 2 с конверсией 0.58\n",
      "\n",
      "1.70333528052776\n",
      "Версия сайта 2 с конверсией 0.58 статистически не отличается от версии 3 с конверсией 0.60\n",
      "\n",
      "3.0051027852151844\n",
      "Версия сайта 2 с конверсией 0.58 статистически отличается от версии 4 с конверсией 0.54\n",
      "\n",
      "5.273099827112846\n",
      "Версия сайта 2 с конверсией 0.58 статистически отличается от версии 5 с конверсией 0.65\n",
      "\n",
      "22.93344269021802\n",
      "Версия сайта 3 с конверсией 0.60 статистически отличается от версии 1 с конверсией 0.36\n",
      "\n",
      "1.70333528052776\n",
      "Версия сайта 3 с конверсией 0.60 статистически не отличается от версии 2 с конверсией 0.58\n",
      "\n",
      "0.0\n",
      "Версия сайта 3 с конверсией 0.60 статистически не отличается от версии 3 с конверсией 0.60\n",
      "\n",
      "4.778062465532534\n",
      "Версия сайта 3 с конверсией 0.60 статистически отличается от версии 4 с конверсией 0.54\n",
      "\n",
      "3.6843963449136043\n",
      "Версия сайта 3 с конверсией 0.60 статистически отличается от версии 5 с конверсией 0.65\n",
      "\n",
      "17.826653746799323\n",
      "Версия сайта 4 с конверсией 0.54 статистически отличается от версии 1 с конверсией 0.36\n",
      "\n",
      "3.0051027852151844\n",
      "Версия сайта 4 с конверсией 0.54 статистически отличается от версии 2 с конверсией 0.58\n",
      "\n",
      "4.778062465532534\n",
      "Версия сайта 4 с конверсией 0.54 статистически отличается от версии 3 с конверсией 0.60\n",
      "\n",
      "0.0\n",
      "Версия сайта 4 с конверсией 0.54 статистически не отличается от версии 4 с конверсией 0.54\n",
      "\n",
      "8.25589342306927\n",
      "Версия сайта 4 с конверсией 0.54 статистически отличается от версии 5 с конверсией 0.65\n",
      "\n",
      "25.388815771018628\n",
      "Версия сайта 5 с конверсией 0.65 статистически отличается от версии 1 с конверсией 0.36\n",
      "\n",
      "5.273099827112846\n",
      "Версия сайта 5 с конверсией 0.65 статистически отличается от версии 2 с конверсией 0.58\n",
      "\n",
      "3.6843963449136043\n",
      "Версия сайта 5 с конверсией 0.65 статистически отличается от версии 3 с конверсией 0.60\n",
      "\n",
      "8.25589342306927\n",
      "Версия сайта 5 с конверсией 0.65 статистически отличается от версии 4 с конверсией 0.54\n",
      "\n",
      "0.0\n",
      "Версия сайта 5 с конверсией 0.65 статистически не отличается от версии 5 с конверсией 0.65\n",
      "\n"
     ]
    }
   ],
   "source": [
    "from collections import defaultdict\n",
    "results_wald = defaultdict(lambda: defaultdict(bool))\n",
    "z_wald = []\n",
    "for i in np.arange(len(data)):\n",
    "    for j in np.arange(len(data)):\n",
    "        z, flag = wald_test(data[i], data[j], alpha=alpha)\n",
    "        print(z)\n",
    "        z_wald.append(z)\n",
    "        results_wald[i][j] = flag\n",
    "        if results_wald[i][j]:\n",
    "            print('Версия сайта {} с конверсией {:.2f} статистически отличается от версии {} с конверсией {:.2f}'.format(i+1, \n",
    "                                                                                              data[i][1] / data[i][0],\n",
    "                                                                                              j+1,\n",
    "                                                                                              data[j][1] / data[j][0]))\n",
    "        else:\n",
    "            print('Версия сайта {} с конверсией {:.2f} статистически не отличается от версии {} с конверсией {:.2f}'.format(i+1, \n",
    "                                                                                 data[i][1] / data[i][0],\n",
    "                                                                                 j+1,\n",
    "                                                                                 data[j][1] / data[j][0]))\n",
    "        print()"
   ]
  },
  {
   "cell_type": "code",
   "execution_count": 7,
   "metadata": {},
   "outputs": [
    {
     "name": "stderr",
     "output_type": "stream",
     "text": [
      "/root/miniconda/lib/python3.6/site-packages/ipykernel_launcher.py:2: RuntimeWarning: invalid value encountered in true_divide\n",
      "  \n",
      "/root/miniconda/lib/python3.6/site-packages/numpy/lib/histograms.py:824: RuntimeWarning: invalid value encountered in greater_equal\n",
      "  keep = (tmp_a >= first_edge)\n",
      "/root/miniconda/lib/python3.6/site-packages/numpy/lib/histograms.py:825: RuntimeWarning: invalid value encountered in less_equal\n",
      "  keep &= (tmp_a <= last_edge)\n"
     ]
    },
    {
     "data": {
      "image/png": "[encoded data removed]",
      "text/plain": [
       "<Figure size 864x576 with 1 Axes>"
      ]
     },
     "metadata": {
      "needs_background": "light"
     },
     "output_type": "display_data"
    }
   ],
   "source": [
    "plt.figure(figsize=(12, 8))\n",
    "plt.hist((np.array(z_mww) - np.array(z_wald)) / np.array(z_mww), bins=30, density=True);\n",
    "plt.xlabel('z-score MWW - z-score Wald')\n",
    "plt.show()"
   ]
  },
  {
   "cell_type": "markdown",
   "metadata": {},
   "source": [
    "### Какие выводы можно сделать?\n",
    "\n",
    "### В чём разница между Манн-Уитни и Вальдом?"
   ]
  },
  {
   "cell_type": "markdown",
   "metadata": {},
   "source": [
    "# 2. ROC-AUC\n",
    "\n",
    "ROC-AUC и статистика Манна-Уитни связаны очень простым соотношением:\n",
    "\n",
    "$$\\mathrm{ROC-AUC} = \\frac{U}{n m }$$\n",
    "\n",
    "$U$ считаеся по вероятностям, которые выдал классификатор, а $n$ и $m$ -- количество положительных и отрицательных примеров."
   ]
  },
  {
   "cell_type": "markdown",
   "metadata": {},
   "source": [
    "На игрушечном датасете посмотрим что такое ROC-AUC."
   ]
  },
  {
   "cell_type": "code",
   "execution_count": 8,
   "metadata": {},
   "outputs": [],
   "source": [
    "from sklearn.datasets import make_classification\n",
    "from sklearn.model_selection import train_test_split\n",
    "from scipy.stats import rankdata, tiecorrect, mannwhitneyu\n",
    "\n",
    "\n",
    "X, y = make_classification(n_samples=200, n_features=10, n_redundant=8, class_sep=0.9, \n",
    "                           n_informative=2, random_state=1337)\n",
    "X_train, X_test, y_train, y_test = train_test_split(X, y, stratify=y, random_state=1337)"
   ]
  },
  {
   "cell_type": "code",
   "execution_count": 9,
   "metadata": {},
   "outputs": [
    {
     "name": "stdout",
     "output_type": "stream",
     "text": [
      "ROC-AUC=0.9056000000000001\n"
     ]
    },
    {
     "name": "stderr",
     "output_type": "stream",
     "text": [
      "/root/miniconda/lib/python3.6/site-packages/sklearn/linear_model/logistic.py:432: FutureWarning: Default solver will be changed to 'lbfgs' in 0.22. Specify a solver to silence this warning.\n",
      "  FutureWarning)\n"
     ]
    }
   ],
   "source": [
    "from sklearn.linear_model import LogisticRegression\n",
    "from sklearn.metrics import roc_auc_score\n",
    "\n",
    "lr = LogisticRegression().fit(X_train, y_train)\n",
    "\n",
    "y_pred = lr.predict_proba(X_test)[:, 1]\n",
    "\n",
    "print('ROC-AUC={}'.format(roc_auc_score(y_test, y_pred)))"
   ]
  },
  {
   "cell_type": "code",
   "execution_count": 10,
   "metadata": {},
   "outputs": [],
   "source": [
    "y_test_colors = y_test.copy().astype(np.object)\n",
    "y_test_colors[y_test==0] = ['r']\n",
    "y_test_colors[y_test==1] = ['g']\n",
    "\n",
    "y_pred_argsorted = np.argsort(y_pred)\n",
    "\n",
    "\n",
    "y_pred = y_pred[y_pred_argsorted]\n",
    "y_test_colors = y_test_colors[y_pred_argsorted]\n",
    "y_test = y_test[y_pred_argsorted]\n",
    "X_test = X_test[y_pred_argsorted]"
   ]
  },
  {
   "cell_type": "markdown",
   "metadata": {},
   "source": [
    "Посчитаем Манна-Уитни с помощью функции из `scipy.stats`."
   ]
  },
  {
   "cell_type": "code",
   "execution_count": 11,
   "metadata": {},
   "outputs": [],
   "source": [
    "mannwhitneyu?"
   ]
  },
  {
   "cell_type": "code",
   "execution_count": 12,
   "metadata": {},
   "outputs": [
    {
     "data": {
      "text/plain": [
       "MannwhitneyuResult(statistic=566.0, pvalue=9.157883328039219e-07)"
      ]
     },
     "execution_count": 12,
     "metadata": {},
     "output_type": "execute_result"
    }
   ],
   "source": [
    "mannwhitneyu(y_pred[y_test==1], y_pred[y_test==0], \n",
    "             alternative='two-sided')"
   ]
  },
  {
   "cell_type": "code",
   "execution_count": 13,
   "metadata": {},
   "outputs": [],
   "source": [
    "n = np.sum(y_test==1)  # количество объектов положительного класса\n",
    "m = np.sum(y_test==0)  # количесво объектов отрицательного класса"
   ]
  },
  {
   "cell_type": "markdown",
   "metadata": {},
   "source": [
    "Удостверимся в равенстве:\n",
    "\n",
    "$$\\mathrm{ROC-AUC} = \\frac{U}{n m }$$"
   ]
  },
  {
   "cell_type": "code",
   "execution_count": 14,
   "metadata": {},
   "outputs": [
    {
     "data": {
      "text/plain": [
       "0.9056"
      ]
     },
     "execution_count": 14,
     "metadata": {},
     "output_type": "execute_result"
    }
   ],
   "source": [
    "mannwhitneyu(y_pred[y_test==1], y_pred[y_test==0], \n",
    "             alternative='two-sided')[0] / (n * m)"
   ]
  },
  {
   "cell_type": "markdown",
   "metadata": {},
   "source": [
    "Отлично!\n",
    "\n",
    "Теперь для интерпретации ROC-AUC нам потребуется вытащить ранги. \n",
    "\n",
    "Ранг это порядок в отсортированном массиве."
   ]
  },
  {
   "cell_type": "code",
   "execution_count": 15,
   "metadata": {},
   "outputs": [],
   "source": [
    "ranks = rankdata(y_pred)\n",
    "pos_ranks = ranks[y_test == 1]"
   ]
  },
  {
   "cell_type": "code",
   "execution_count": 16,
   "metadata": {},
   "outputs": [
    {
     "data": {
      "image/png": "[encoded data removed]",
      "text/plain": [
       "<Figure size 864x576 with 1 Axes>"
      ]
     },
     "metadata": {
      "needs_background": "light"
     },
     "output_type": "display_data"
    }
   ],
   "source": [
    "plt.figure(figsize=(12, 8))\n",
    "\n",
    "plt.barh(np.arange(len(y_pred))[::-1], ranks, color=y_test_colors)\n",
    "\n",
    "plt.ylabel('case')\n",
    "plt.xlabel('rank')\n",
    "plt.show()"
   ]
  },
  {
   "cell_type": "code",
   "execution_count": 17,
   "metadata": {},
   "outputs": [],
   "source": [
    "x_offset = m + np.arange(1, n + 1) - pos_ranks"
   ]
  },
  {
   "cell_type": "code",
   "execution_count": 18,
   "metadata": {},
   "outputs": [],
   "source": [
    "from sklearn.metrics import roc_curve\n",
    "fpr, tpr, thresholds = roc_curve(y_test, y_pred)\n",
    "\n",
    "roc_auc = roc_auc_score(y_test, y_pred)"
   ]
  },
  {
   "cell_type": "code",
   "execution_count": 19,
   "metadata": {},
   "outputs": [
    {
     "data": {
      "image/png": "[encoded data removed]",
      "text/plain": [
       "<Figure size 864x576 with 1 Axes>"
      ]
     },
     "metadata": {
      "needs_background": "light"
     },
     "output_type": "display_data"
    }
   ],
   "source": [
    "from matplotlib.patches import Rectangle\n",
    "\n",
    "plt.figure(figsize=(12, 8))\n",
    "plt.barh(y=np.arange(n)[::-1] + 0.5, width=pos_ranks, left=x_offset, color='g')\n",
    "plt.plot(m * fpr, n * tpr, color='darkorange',\n",
    "         label='ROC curve (area = %0.2f)' % roc_auc, lw=4)\n",
    "plt.gca().add_patch(plt.Rectangle(xy=(m, 0), edgecolor='g',\n",
    "                                  height=n, width=n, fill=False, linewidth=2))\n",
    "plt.gca().add_patch(plt.Rectangle(xy=(0, 0), edgecolor='r',\n",
    "                                  height=n, width=m, fill=False, linewidth=2))\n",
    "plt.xlabel('Всего объектов в выборке')\n",
    "plt.ylabel('Количество объектов положительного класса')\n",
    "plt.legend(loc='best')\n",
    "plt.show()"
   ]
  },
  {
   "cell_type": "markdown",
   "metadata": {},
   "source": [
    "## Применим это к реальной задаче\n",
    "\n",
    "Прочитаем данные и разобъём их на train/test выборки."
   ]
  },
  {
   "cell_type": "code",
   "execution_count": 60,
   "metadata": {},
   "outputs": [],
   "source": [
    "X = pd.read_csv('./cell2celltrain.csv')\n",
    "msk = np.random.rand(len(X)) < 0.8\n",
    "X_train = X[msk].copy()\n",
    "X_test = X[~msk].copy()\n",
    "\n",
    "columns = ['MonthlyRevenue', 'MonthlyMinutes',\n",
    "           'TotalRecurringCharge', 'DirectorAssistedCalls', 'OverageMinutes',\n",
    "           'RoamingCalls', 'PercChangeMinutes', 'PercChangeRevenues',\n",
    "           'DroppedCalls', 'BlockedCalls', 'UnansweredCalls', 'CustomerCareCalls',\n",
    "           'ThreewayCalls', 'ReceivedCalls', 'OutboundCalls', 'InboundCalls',\n",
    "           'PeakCallsInOut', 'OffPeakCallsInOut', 'DroppedBlockedCalls',\n",
    "           'CallForwardingCalls', 'CallWaitingCalls', 'MonthsInService',\n",
    "           'UniqueSubs', 'ActiveSubs', 'Handsets', 'HandsetModels',\n",
    "           'CurrentEquipmentDays', 'AgeHH1', 'AgeHH2', 'ChildrenInHH',\n",
    "           'HandsetRefurbished', 'HandsetWebCapable', 'TruckOwner', 'RVOwner',\n",
    "           'BuysViaMailOrder', 'RespondsToMailOffers',\n",
    "           'OptOutMailings', 'NonUSTravel', 'OwnsComputer', 'HasCreditCard',\n",
    "           'RetentionCalls', 'RetentionOffersAccepted', 'NewCellphoneUser',\n",
    "           'NotNewCellphoneUser', 'ReferralsMadeBySubscriber', 'IncomeGroup',\n",
    "           'OwnsMotorcycle', 'AdjustmentsToCreditRating', 'HandsetPrice',\n",
    "           'MadeCallToRetentionTeam', 'CreditRating', 'Occupation',\n",
    "           'MaritalStatus']"
   ]
  },
  {
   "cell_type": "markdown",
   "metadata": {},
   "source": [
    "Выкинем колонки `'ServiceArea', 'Homeownership', 'PrizmCode'`."
   ]
  },
  {
   "cell_type": "code",
   "execution_count": 61,
   "metadata": {},
   "outputs": [],
   "source": [
    "drop_columns = ['ServiceArea', 'Homeownership', 'PrizmCode']\n",
    "\n",
    "X_train.drop(labels=drop_columns, axis=1, inplace=True)\n",
    "X_test.drop(labels=drop_columns, axis=1, inplace=True)"
   ]
  },
  {
   "cell_type": "markdown",
   "metadata": {},
   "source": [
    "Бинарные колонки закодируем как `0/1`."
   ]
  },
  {
   "cell_type": "code",
   "execution_count": 62,
   "metadata": {},
   "outputs": [],
   "source": [
    "bin_cols = ['Churn', 'HandsetRefurbished', 'HandsetWebCapable', 'RespondsToMailOffers',\n",
    "            'TruckOwner', 'RVOwner', 'BuysViaMailOrder', 'OptOutMailings', 'NonUSTravel',\n",
    "            'OwnsComputer', 'HasCreditCard', 'NewCellphoneUser', 'NotNewCellphoneUser',\n",
    "            'OwnsMotorcycle', 'MadeCallToRetentionTeam', 'ChildrenInHH', 'MaritalStatus']\n",
    "def preprocess_bin_cols(X, cols):\n",
    "    for col in cols:\n",
    "        X[col] = X[col].apply(lambda x: 1 if x == 'Yes' else 0)\n",
    "        \n",
    "        \n",
    "preprocess_bin_cols(X_train, bin_cols)\n",
    "preprocess_bin_cols(X_test, bin_cols)"
   ]
  },
  {
   "cell_type": "code",
   "execution_count": 63,
   "metadata": {},
   "outputs": [],
   "source": [
    "def ohe(X_train, X_test, col):\n",
    "    from sklearn.preprocessing import LabelEncoder\n",
    "    le = LabelEncoder()\n",
    "    le.fit(X_train[col])\n",
    "    X_train[col] = le.transform(X_train[col])\n",
    "    X_test[col] = le.transform(X_test[col])\n",
    "\n",
    "ohe(X_train, X_test, 'CreditRating')\n",
    "ohe(X_train, X_test, 'Occupation')"
   ]
  },
  {
   "cell_type": "markdown",
   "metadata": {},
   "source": [
    "Избавимся от NaN-данных."
   ]
  },
  {
   "cell_type": "code",
   "execution_count": 64,
   "metadata": {},
   "outputs": [],
   "source": [
    "X_train[X_train == 'Unknown'] = np.nan\n",
    "X_train.fillna(0, inplace=True)\n",
    "\n",
    "X_test[X_test == 'Unknown'] = np.nan\n",
    "X_test.fillna(0, inplace=True)"
   ]
  },
  {
   "cell_type": "markdown",
   "metadata": {},
   "source": [
    "Переводим в numpy-формат."
   ]
  },
  {
   "cell_type": "code",
   "execution_count": 65,
   "metadata": {},
   "outputs": [],
   "source": [
    "y_train = X_train.Churn.values\n",
    "X_train = X_train[columns].values.astype(float)\n",
    "\n",
    "y_test = X_test.Churn.values\n",
    "X_test = X_test[columns].values.astype(float)"
   ]
  },
  {
   "cell_type": "code",
   "execution_count": 66,
   "metadata": {},
   "outputs": [
    {
     "name": "stdout",
     "output_type": "stream",
     "text": [
      "ROC-AUC=0.6162309455062102\n"
     ]
    }
   ],
   "source": [
    "lr = LogisticRegression().fit(X_train, y_train)\n",
    "\n",
    "y_pred = lr.predict_proba(X_test)[:, 1]\n",
    "\n",
    "print('ROC-AUC={}'.format(roc_auc_score(y_test, y_pred)))"
   ]
  },
  {
   "cell_type": "code",
   "execution_count": 67,
   "metadata": {},
   "outputs": [],
   "source": [
    "y_test_colors = y_test.copy().astype(np.object)\n",
    "y_test_colors[y_test==0] = ['r']\n",
    "y_test_colors[y_test==1] = ['g']\n",
    "\n",
    "y_pred_argsorted = np.argsort(y_pred)\n",
    "\n",
    "y_pred = y_pred[y_pred_argsorted]\n",
    "y_test_colors = y_test_colors[y_pred_argsorted]\n",
    "y_test = y_test[y_pred_argsorted]\n",
    "X_test = X_test[y_pred_argsorted]"
   ]
  },
  {
   "cell_type": "code",
   "execution_count": 72,
   "metadata": {},
   "outputs": [
    {
     "data": {
      "image/png": "[encoded data removed]",
      "text/plain": [
       "<Figure size 864x576 with 1 Axes>"
      ]
     },
     "metadata": {
      "needs_background": "light"
     },
     "output_type": "display_data"
    }
   ],
   "source": [
    "ranks = rankdata(y_pred)\n",
    "pos_ranks = ranks[y_test == 1]\n",
    "\n",
    "plt.figure(figsize=(12, 8))\n",
    "\n",
    "plt.barh(np.arange(len(y_pred))[::-1], ranks, color=y_test_colors, edgecolor='none')\n",
    "\n",
    "plt.ylabel('case')\n",
    "plt.xlabel('rank')\n",
    "plt.show()"
   ]
  },
  {
   "cell_type": "code",
   "execution_count": 69,
   "metadata": {},
   "outputs": [],
   "source": [
    "n = np.sum(y_test==1)  # количество объектов положительного класса\n",
    "m = np.sum(y_test==0)  # количесво объектов отрицательного класса\n",
    "\n",
    "x_offset = m + np.arange(1, n + 1) - pos_ranks"
   ]
  },
  {
   "cell_type": "code",
   "execution_count": 70,
   "metadata": {},
   "outputs": [],
   "source": [
    "fpr, tpr, thresholds = roc_curve(y_test, y_pred)\n",
    "roc_auc = roc_auc_score(y_test, y_pred)"
   ]
  },
  {
   "cell_type": "code",
   "execution_count": 73,
   "metadata": {},
   "outputs": [
    {
     "data": {
      "image/png": "[encoded data removed]",
      "text/plain": [
       "<Figure size 864x576 with 1 Axes>"
      ]
     },
     "metadata": {
      "needs_background": "light"
     },
     "output_type": "display_data"
    }
   ],
   "source": [
    "from matplotlib.patches import Rectangle\n",
    "\n",
    "plt.figure(figsize=(12, 8))\n",
    "plt.barh(y=np.arange(n)[::-1] + 0.5, width=pos_ranks, left=x_offset, color='g', edgecolor='none')\n",
    "plt.plot(m * fpr, n * tpr, color='darkorange',\n",
    "         label='ROC curve (area = %0.2f)' % roc_auc, lw=4)\n",
    "plt.gca().add_patch(plt.Rectangle(xy=(m, 0), edgecolor='g',\n",
    "                                  height=n, width=n, fill=False, linewidth=2))\n",
    "plt.gca().add_patch(plt.Rectangle(xy=(0, 0), edgecolor='r',\n",
    "                                  height=n, width=m, fill=False, linewidth=2))\n",
    "plt.xlabel('Всего объектов в выборке')\n",
    "plt.ylabel('Количество объектов положительного класса')\n",
    "plt.legend(loc='best')\n",
    "plt.show()"
   ]
  },
  {
   "cell_type": "markdown",
   "metadata": {},
   "source": [
    "# 3.2 Три способа посчитать дисперсию ROC-AUC(на самом деле 4)\n",
    "\n",
    "### Из предельного распределения статистики Манна-Уитни\n",
    "\n",
    "При больших размерах выборки, как было написано выше:\n",
    "\n",
    "$$U \\sim \\mathcal{N}\\left(\\frac{mn}{2}, \\frac{mn(n + m + 1)}{12}\\right)$$\n",
    "\n",
    "то для ROC-AUC предельное распределение будет следующим:\n",
    "\n",
    "$$ \\mathrm{ROC-AUC} \\sim \\mathcal{N} \\left(\\frac{1}{2}, \\frac{n + m + 1}{12 n m}\\right) $$\n",
    "\n",
    "В данном контексте $n$ и $m$ количество положительных и отрицательных примеров в выборке.\n",
    "\n",
    "В данном вражении нас интересует только оценка стандартного отклонения:\n",
    "\n",
    "$$\\hat{se} = \\sqrt{\\frac{n + m + 1}{12 n m}}$$\n",
    "\n",
    "Замечательностью и слабостью данной формулы является её независимость от $\\widehat{AUC}$, т.е. можно использовать для планирования эксперимента при известных априорных распределений на $n$ и $m$."
   ]
  },
  {
   "cell_type": "code",
   "execution_count": 32,
   "metadata": {},
   "outputs": [],
   "source": [
    "def roc_auc_variance_from_mann_whitney(n1, n2):\n",
    "    return (n1 + n2 + 1) / (12 * n1 * n2)"
   ]
  },
  {
   "cell_type": "markdown",
   "metadata": {},
   "source": [
    "### Метод \"Mcneil\"(усложнённый вариант метода выше)\n",
    "\n",
    "https://pubs.rsna.org/doi/10.1148/radiology.143.1.7063747\n",
    "\n",
    "http://cejsh.icm.edu.pl/cejsh/element/bwmeta1.element.desklight-1f1afc51-6102-491f-a21d-de29ae98ce3b/c/MIBE_T15_z2_36.pdf\n",
    "\n",
    "![](var_auc.png)\n",
    "\n",
    "В данном контексте $\\theta$ -- \"истинный\" ROC-AUC.\n",
    "\n",
    "$$\\hat{se} = \\sqrt{ \\frac{ (\\hat{AUC} (1 - \\hat{AUC}) + (n - 1)(Q_1 - \\hat{AUC}^2) + (m - 1)(Q_2 - \\hat{AUC}^2) )() }{n m} }$$\n",
    "\n",
    "Плюс:\n",
    "  * учитывает полученное значение AUC.\n",
    "\n",
    "Минус:\n",
    "  * сильное предположение о нормальности распределения."
   ]
  },
  {
   "cell_type": "code",
   "execution_count": 33,
   "metadata": {},
   "outputs": [],
   "source": [
    "def roc_auc_variance(auc, n1, n2):\n",
    "    q1 = auc / (2 - auc)\n",
    "    q2 = 2 * auc**2 / (1 + auc)\n",
    "    return (auc * (1 - auc) + (n1 - 1) * (q1 - auc**2) + (n2 - 1) * (q2 - auc**2)) / (n1 * n2)"
   ]
  },
  {
   "cell_type": "markdown",
   "metadata": {},
   "source": [
    "### Метод ДеЛонга \n",
    "\n",
    "https://www.ncbi.nlm.nih.gov/pubmed/3203132\n",
    "\n",
    "Этот метод ещё дополнительно учитывает корреляции между положительным и отрицательными классами."
   ]
  },
  {
   "cell_type": "code",
   "execution_count": 74,
   "metadata": {},
   "outputs": [],
   "source": [
    "from compare_auc_delong_xu import delong_roc_variance"
   ]
  },
  {
   "cell_type": "code",
   "execution_count": 75,
   "metadata": {},
   "outputs": [],
   "source": [
    "from xgboost import XGBClassifier\n",
    "from sklearn.svm import SVC, LinearSVC\n",
    "from sklearn.naive_bayes import GaussianNB\n",
    "from sklearn.neighbors import KNeighborsClassifier\n",
    "from sklearn.linear_model import LogisticRegression\n",
    "from sklearn.metrics import roc_auc_score\n",
    "import warnings\n",
    "warnings.simplefilter(action='ignore', category=FutureWarning)\n",
    "\n",
    "models = {\n",
    "    'LogisticRegression': LogisticRegression(),\n",
    "    'GaussianNB': GaussianNB(),\n",
    "    'KNeighborsClassifier': KNeighborsClassifier()\n",
    "}"
   ]
  },
  {
   "cell_type": "code",
   "execution_count": 76,
   "metadata": {},
   "outputs": [
    {
     "name": "stderr",
     "output_type": "stream",
     "text": [
      "100%|██████████| 3/3 [00:07<00:00,  3.92s/it]\n"
     ]
    }
   ],
   "source": [
    "from tqdm import tqdm\n",
    "auc_var_naives = []\n",
    "auc_var_params = []\n",
    "auc_var_delongs = []\n",
    "aucs = []\n",
    "model_names = []\n",
    "\n",
    "for model_name, model in tqdm(models.items()):\n",
    "    # train model\n",
    "    model.fit(X_train, y_train)\n",
    "    y_pred = model.predict_proba(X_test)[:, 1]\n",
    "    # estimate auc and variance\n",
    "    auc = roc_auc_score(y_test, y_pred)\n",
    "    n, m = y_test.sum(), len(y_test) - y_test.sum()\n",
    "    auc_var_naive = roc_auc_variance_from_mann_whitney(n, m)\n",
    "    auc_var_param = roc_auc_variance(auc, n, m)\n",
    "    _, auc_var_delong = delong_roc_variance(y_test, y_pred)\n",
    "    \n",
    "    # add stats to lists\n",
    "    model_names.append(model_name)\n",
    "    auc_var_naives.append(auc_var_naive)\n",
    "    auc_var_params.append(auc_var_param)\n",
    "    auc_var_delongs.append(auc_var_delong)\n",
    "    aucs.append(auc)\n",
    "    \n",
    "auc_var_naives = np.sqrt(np.array(auc_var_naives))\n",
    "auc_var_params = np.sqrt(np.array(auc_var_params))\n",
    "auc_var_delongs = np.sqrt(np.array(auc_var_delongs))\n",
    "aucs = np.array(aucs)"
   ]
  },
  {
   "cell_type": "code",
   "execution_count": 77,
   "metadata": {},
   "outputs": [
    {
     "data": {
      "image/png": "[encoded data removed]",
      "text/plain": [
       "<Figure size 864x576 with 1 Axes>"
      ]
     },
     "metadata": {
      "needs_background": "light"
     },
     "output_type": "display_data"
    }
   ],
   "source": [
    "x = np.arange(len(aucs))\n",
    "plt.figure(figsize=(12, 8))\n",
    "\n",
    "plt.errorbar(x + 0.1, aucs, 2 * auc_var_naives, fmt='ok', lw=1, alpha=0.5, \n",
    "             ecolor='g', label='Naive 95% C')\n",
    "plt.errorbar(x - 0.1, aucs, 2 * auc_var_params, fmt='ok', lw=2, alpha=0.5, \n",
    "             ecolor='b', label='Parametric 95% C')\n",
    "plt.errorbar(x, aucs, 2 * auc_var_delongs, fmt='ok', lw=3, alpha=0.5, \n",
    "             ecolor='k', label='DeLong 95% CI')\n",
    "\n",
    "plt.xticks(x, model_names, rotation=30)\n",
    "plt.legend()\n",
    "plt.show()"
   ]
  },
  {
   "cell_type": "markdown",
   "metadata": {},
   "source": [
    "### Посмотрим на поведение стандартного отклонения ROC-AUC при маленькой выборке на искуственной задаче\n",
    "\n",
    "Первая выборка сэмплируется из:\n",
    "\n",
    "$$x_1 \\sim \\mathcal{N}(x_1 ; 0, 1)$$\n",
    "\n",
    "Вторая выборка сэмплируется из:\n",
    "\n",
    "$$x_2 \\sim \\mathcal{N}(x_1 ; 2, 1)$$\n",
    "\n",
    "Тогда идеальный ROC-AUC может быть расчитан следующим образом:\n",
    "\n",
    "$$\\mathrm{ROC-AUC} = p(x_2 > x_1) = p\\left(\\mathcal{N}(2, 2) > 0\\right) = \\frac{1}{2} \\mathrm{erfc}\\left(-\\frac{\\mu}{\\sqrt{2} \\sigma}\\right) \\approx 0.92$$"
   ]
  },
  {
   "cell_type": "code",
   "execution_count": 78,
   "metadata": {},
   "outputs": [],
   "source": [
    "from scipy.stats import norm\n",
    "def make_classification(n_samples, mu_1=0, sigma_1=1, mu_2=2, sigma_2=1):\n",
    "    X_1 = norm.rvs(loc=mu_1, scale=sigma_1, size=n_samples).reshape(-1, 1)\n",
    "    X_2 = norm.rvs(loc=mu_2, scale=sigma_2, size=n_samples).reshape(-1, 1)\n",
    "    X = np.concatenate([X_1, X_2], axis=0)\n",
    "    Y = np.ones_like(X)\n",
    "    Y[:len(X_1)] = 0.\n",
    "    idx = np.random.choice(len(Y), size=len(Y), replace=False)\n",
    "    return X[idx], Y[idx].reshape(-1)"
   ]
  },
  {
   "cell_type": "code",
   "execution_count": 79,
   "metadata": {},
   "outputs": [],
   "source": [
    "from sklearn.model_selection import train_test_split\n",
    "from sklearn.linear_model import LogisticRegression\n",
    "from sklearn.naive_bayes import GaussianNB\n",
    "from sklearn.metrics import roc_auc_score\n",
    "\n",
    "X, y = make_classification(n_samples=120)\n",
    "X_train, X_test, y_train, y_test = train_test_split(X, y, stratify=y)"
   ]
  },
  {
   "cell_type": "code",
   "execution_count": 80,
   "metadata": {},
   "outputs": [],
   "source": [
    "from sklearn.model_selection import KFold, cross_val_score, StratifiedKFold\n",
    "\n",
    "def cv_auc_var_ci(model, X, y, B=100):\n",
    "    aucs_std = []\n",
    "    aucs = []\n",
    "    for _ in range(B):\n",
    "        aucs_tmp = cross_val_score(model, X=X, y=y, \n",
    "                                   scoring='roc_auc', \n",
    "                                   cv=StratifiedKFold(n_splits=5, shuffle=True))\n",
    "        aucs_std.append(np.std(aucs_tmp))\n",
    "        aucs.append(np.mean(aucs_tmp))\n",
    "    return np.mean(aucs), np.mean(aucs_std), np.percentile(aucs, q=[2.5, 97.5])"
   ]
  },
  {
   "cell_type": "code",
   "execution_count": 81,
   "metadata": {},
   "outputs": [
    {
     "name": "stderr",
     "output_type": "stream",
     "text": [
      "100%|██████████| 3/3 [00:17<00:00,  5.65s/it]\n"
     ]
    }
   ],
   "source": [
    "from tqdm import tqdm\n",
    "auc_var_naives = []\n",
    "auc_var_params = []\n",
    "auc_var_delongs = []\n",
    "auc_var_boots = []\n",
    "auc_ci_lows = []\n",
    "auc_ci_highs = []\n",
    "aucs_cv_means = []\n",
    "aucs = []\n",
    "model_names = []\n",
    "\n",
    "for model_name, model in tqdm(models.items()):\n",
    "    # train model\n",
    "    model.fit(X_train, y_train)\n",
    "    y_pred = model.predict_proba(X_test)[:, 1]\n",
    "    # estimate auc and variance\n",
    "    auc = roc_auc_score(y_test, y_pred)\n",
    "    n, m = y_test.sum(), len(y_test) - y_test.sum()\n",
    "    auc_var_naive = roc_auc_variance_from_mann_whitney(n, m)\n",
    "    auc_var_param = roc_auc_variance(auc, n, m)\n",
    "    _, auc_var_delong = delong_roc_variance(y_test, y_pred)\n",
    "    aucs_cv_mean, auc_var_boot, (auc_ci_low, auc_ci_high) = cv_auc_var_ci(model, X, y, B=500)\n",
    "    # add stats to lists\n",
    "    \n",
    "    model_names.append(model_name)\n",
    "    auc_var_naives.append(auc_var_naive)\n",
    "    auc_var_params.append(auc_var_param)\n",
    "    auc_var_delongs.append(auc_var_delong)\n",
    "    auc_var_boots.append(auc_var_boot)\n",
    "    auc_ci_lows.append(auc_ci_low)\n",
    "    auc_ci_highs.append(auc_ci_high)\n",
    "    aucs_cv_means.append(aucs_cv_mean)\n",
    "    aucs.append(auc)\n",
    "    \n",
    "auc_var_naives = np.sqrt(np.array(auc_var_naives))\n",
    "auc_var_params = np.sqrt(np.array(auc_var_params))\n",
    "auc_var_delongs = np.sqrt(np.array(auc_var_delongs))\n",
    "auc_var_boots = np.array(auc_var_boots)\n",
    "auc_ci_lows = np.array(auc_ci_lows)\n",
    "auc_ci_highs = np.array(auc_ci_highs)\n",
    "aucs_cv_means = np.array(aucs_cv_means)\n",
    "aucs = np.array(aucs)"
   ]
  },
  {
   "cell_type": "code",
   "execution_count": 82,
   "metadata": {},
   "outputs": [
    {
     "data": {
      "image/png": "[encoded data removed]",
      "text/plain": [
       "<Figure size 864x576 with 1 Axes>"
      ]
     },
     "metadata": {
      "needs_background": "light"
     },
     "output_type": "display_data"
    }
   ],
   "source": [
    "x = np.arange(len(aucs))\n",
    "plt.figure(figsize=(12, 8))\n",
    "\n",
    "plt.errorbar(x + 0.2, aucs, 2 * auc_var_naives, fmt='ok', lw=3, alpha=0.5, \n",
    "             ecolor='g', label='Naive 95% CI')\n",
    "plt.errorbar(x + 0.1, aucs, 2 * auc_var_params, fmt='ok', lw=3, alpha=0.5, \n",
    "             ecolor='b', label='Parametric 95% CI')\n",
    "plt.errorbar(x, aucs, 2 * auc_var_delongs, fmt='ok', lw=3, alpha=0.5, \n",
    "             ecolor='k', label='DeLong 95% CI')\n",
    "plt.errorbar(x - 0.1, aucs_cv_means, 2 * auc_var_boots, fmt='ok', lw=3, alpha=0.5, \n",
    "             ecolor='r', label='Boot 95% CI')\n",
    "plt.errorbar(x - 0.2, aucs_cv_means, np.array([aucs_cv_means - auc_ci_lows, auc_ci_highs - aucs_cv_means]), fmt='ok', lw=3, alpha=0.5, ecolor='c', label='CV 95% CI')\n",
    "\n",
    "plt.axhline(0.92)\n",
    "\n",
    "plt.xticks(x, model_names, rotation=30)\n",
    "plt.legend()\n",
    "plt.show()"
   ]
  },
  {
   "cell_type": "markdown",
   "metadata": {},
   "source": [
    "## Посчитаем capture rate для `GaussianNB`"
   ]
  },
  {
   "cell_type": "code",
   "execution_count": 83,
   "metadata": {},
   "outputs": [],
   "source": [
    "model = models[\"GaussianNB\"]"
   ]
  },
  {
   "cell_type": "code",
   "execution_count": 85,
   "metadata": {
    "scrolled": true
   },
   "outputs": [
    {
     "name": "stderr",
     "output_type": "stream",
     "text": [
      "\n",
      "  0%|          | 0/100 [00:00<?, ?it/s]\u001b[A\n",
      "  1%|          | 1/100 [00:05<08:31,  5.16s/it]\u001b[A\n",
      "  2%|▏         | 2/100 [00:10<08:29,  5.19s/it]\u001b[A\n",
      "  3%|▎         | 3/100 [00:15<08:26,  5.22s/it]\u001b[A\n",
      "  4%|▍         | 4/100 [00:20<08:22,  5.24s/it]\u001b[A\n",
      "  5%|▌         | 5/100 [00:26<08:18,  5.25s/it]\u001b[A\n",
      "  6%|▌         | 6/100 [00:31<08:14,  5.26s/it]\u001b[A\n",
      "  7%|▋         | 7/100 [00:36<08:07,  5.24s/it]\u001b[A\n",
      "  8%|▊         | 8/100 [00:42<08:04,  5.26s/it]\u001b[A\n",
      "  9%|▉         | 9/100 [00:47<07:58,  5.26s/it]\u001b[A\n",
      " 10%|█         | 10/100 [00:52<07:54,  5.27s/it]\u001b[A\n",
      " 11%|█         | 11/100 [00:57<07:47,  5.26s/it]\u001b[A\n",
      " 12%|█▏        | 12/100 [01:03<07:45,  5.29s/it]\u001b[A\n",
      " 13%|█▎        | 13/100 [01:08<07:40,  5.30s/it]\u001b[A\n",
      " 14%|█▍        | 14/100 [01:13<07:36,  5.31s/it]\u001b[A\n",
      " 15%|█▌        | 15/100 [01:19<07:29,  5.29s/it]\u001b[A\n",
      " 16%|█▌        | 16/100 [01:24<07:22,  5.27s/it]\u001b[A\n",
      " 17%|█▋        | 17/100 [01:29<07:18,  5.28s/it]\u001b[A\n",
      " 18%|█▊        | 18/100 [01:34<07:12,  5.28s/it]\u001b[A\n",
      " 19%|█▉        | 19/100 [01:40<07:06,  5.26s/it]\u001b[A\n",
      " 20%|██        | 20/100 [01:45<07:02,  5.28s/it]\u001b[A\n",
      " 21%|██        | 21/100 [01:50<07:00,  5.32s/it]\u001b[A\n",
      " 22%|██▏       | 22/100 [01:56<06:53,  5.30s/it]\u001b[A\n",
      " 23%|██▎       | 23/100 [02:01<06:48,  5.30s/it]\u001b[A\n",
      " 24%|██▍       | 24/100 [02:06<06:41,  5.28s/it]\u001b[A\n",
      " 25%|██▌       | 25/100 [02:11<06:36,  5.28s/it]\u001b[A\n",
      " 26%|██▌       | 26/100 [02:17<06:30,  5.27s/it]\u001b[A\n",
      " 27%|██▋       | 27/100 [02:22<06:24,  5.27s/it]\u001b[A\n",
      " 28%|██▊       | 28/100 [02:27<06:20,  5.28s/it]\u001b[A\n",
      " 29%|██▉       | 29/100 [02:33<06:15,  5.29s/it]\u001b[A\n",
      " 30%|███       | 30/100 [02:38<06:10,  5.29s/it]\u001b[A\n",
      " 31%|███       | 31/100 [02:43<06:05,  5.29s/it]\u001b[A\n",
      " 32%|███▏      | 32/100 [02:48<05:59,  5.29s/it]\u001b[A\n",
      " 33%|███▎      | 33/100 [02:54<05:54,  5.29s/it]\u001b[A\n",
      " 34%|███▍      | 34/100 [02:59<05:49,  5.29s/it]\u001b[A\n",
      " 35%|███▌      | 35/100 [03:04<05:44,  5.30s/it]\u001b[A\n",
      " 36%|███▌      | 36/100 [03:10<05:38,  5.28s/it]\u001b[A\n",
      " 37%|███▋      | 37/100 [03:15<05:31,  5.26s/it]\u001b[A\n",
      " 38%|███▊      | 38/100 [03:20<05:24,  5.24s/it]\u001b[A\n",
      " 39%|███▉      | 39/100 [03:25<05:22,  5.29s/it]\u001b[A\n",
      " 40%|████      | 40/100 [03:31<05:15,  5.26s/it]\u001b[A\n",
      " 41%|████      | 41/100 [03:36<05:10,  5.26s/it]\u001b[A\n",
      " 42%|████▏     | 42/100 [03:41<05:05,  5.26s/it]\u001b[A\n",
      " 43%|████▎     | 43/100 [03:46<04:59,  5.26s/it]\u001b[A\n",
      " 44%|████▍     | 44/100 [03:52<04:53,  5.24s/it]\u001b[A\n",
      " 45%|████▌     | 45/100 [03:57<04:49,  5.27s/it]\u001b[A\n",
      " 46%|████▌     | 46/100 [04:02<04:43,  5.26s/it]\u001b[A\n",
      " 47%|████▋     | 47/100 [04:07<04:37,  5.24s/it]\u001b[A\n",
      " 48%|████▊     | 48/100 [04:13<04:33,  5.27s/it]\u001b[A\n",
      " 49%|████▉     | 49/100 [04:18<04:28,  5.27s/it]\u001b[A\n",
      " 50%|█████     | 50/100 [04:23<04:25,  5.30s/it]\u001b[A\n",
      " 51%|█████     | 51/100 [04:28<04:17,  5.26s/it]\u001b[A\n",
      " 52%|█████▏    | 52/100 [04:34<04:11,  5.24s/it]\u001b[A\n",
      " 53%|█████▎    | 53/100 [04:39<04:06,  5.24s/it]\u001b[A\n",
      " 54%|█████▍    | 54/100 [04:44<04:03,  5.29s/it]\u001b[A\n",
      " 55%|█████▌    | 55/100 [04:49<03:56,  5.27s/it]\u001b[A\n",
      " 56%|█████▌    | 56/100 [04:55<03:53,  5.31s/it]\u001b[A\n",
      " 57%|█████▋    | 57/100 [05:00<03:48,  5.30s/it]\u001b[A\n",
      " 58%|█████▊    | 58/100 [05:05<03:40,  5.26s/it]\u001b[A\n",
      " 59%|█████▉    | 59/100 [05:11<03:34,  5.24s/it]\u001b[A\n",
      " 60%|██████    | 60/100 [05:16<03:28,  5.22s/it]\u001b[A\n",
      " 61%|██████    | 61/100 [05:21<03:23,  5.23s/it]\u001b[A\n",
      " 62%|██████▏   | 62/100 [05:26<03:20,  5.27s/it]\u001b[A\n",
      " 63%|██████▎   | 63/100 [05:32<03:15,  5.28s/it]\u001b[A\n",
      " 64%|██████▍   | 64/100 [05:37<03:10,  5.28s/it]\u001b[A\n",
      " 65%|██████▌   | 65/100 [05:42<03:04,  5.26s/it]\u001b[A\n",
      " 66%|██████▌   | 66/100 [05:47<02:58,  5.26s/it]\u001b[A\n",
      " 67%|██████▋   | 67/100 [05:53<02:52,  5.23s/it]\u001b[A\n",
      " 68%|██████▊   | 68/100 [05:58<02:48,  5.26s/it]\u001b[A\n",
      " 69%|██████▉   | 69/100 [06:03<02:43,  5.27s/it]\u001b[A\n",
      " 70%|███████   | 70/100 [06:08<02:37,  5.26s/it]\u001b[A\n",
      " 71%|███████   | 71/100 [06:14<02:32,  5.27s/it]\u001b[A\n",
      " 72%|███████▏  | 72/100 [06:19<02:27,  5.26s/it]\u001b[A\n",
      " 73%|███████▎  | 73/100 [06:24<02:22,  5.26s/it]\u001b[A\n",
      " 74%|███████▍  | 74/100 [06:29<02:16,  5.26s/it]\u001b[A\n",
      " 75%|███████▌  | 75/100 [06:35<02:12,  5.29s/it]\u001b[A\n",
      " 76%|███████▌  | 76/100 [06:40<02:06,  5.28s/it]\u001b[A\n",
      " 77%|███████▋  | 77/100 [06:45<02:01,  5.28s/it]\u001b[A\n",
      " 78%|███████▊  | 78/100 [06:51<01:56,  5.30s/it]\u001b[A\n",
      " 79%|███████▉  | 79/100 [06:56<01:51,  5.29s/it]\u001b[A\n",
      " 80%|████████  | 80/100 [07:01<01:45,  5.26s/it]\u001b[A\n",
      " 81%|████████  | 81/100 [07:06<01:40,  5.28s/it]\u001b[A\n",
      " 82%|████████▏ | 82/100 [07:12<01:35,  5.30s/it]\u001b[A\n",
      " 83%|████████▎ | 83/100 [07:17<01:30,  5.30s/it]\u001b[A\n",
      " 84%|████████▍ | 84/100 [07:23<01:25,  5.33s/it]\u001b[A\n",
      " 85%|████████▌ | 85/100 [07:28<01:19,  5.33s/it]\u001b[A\n",
      " 86%|████████▌ | 86/100 [07:33<01:14,  5.32s/it]\u001b[A\n",
      " 87%|████████▋ | 87/100 [07:38<01:08,  5.28s/it]\u001b[A\n",
      " 88%|████████▊ | 88/100 [07:44<01:03,  5.26s/it]\u001b[A\n",
      " 89%|████████▉ | 89/100 [07:49<00:57,  5.27s/it]\u001b[A\n",
      " 90%|█████████ | 90/100 [07:54<00:52,  5.24s/it]\u001b[A\n",
      " 91%|█████████ | 91/100 [07:59<00:47,  5.25s/it]\u001b[A\n",
      " 92%|█████████▏| 92/100 [08:05<00:42,  5.27s/it]\u001b[A\n",
      " 93%|█████████▎| 93/100 [08:10<00:36,  5.27s/it]\u001b[A\n",
      " 94%|█████████▍| 94/100 [08:15<00:31,  5.25s/it]\u001b[A\n",
      " 95%|█████████▌| 95/100 [08:20<00:26,  5.26s/it]\u001b[A\n",
      " 96%|█████████▌| 96/100 [08:26<00:21,  5.27s/it]\u001b[A\n",
      " 97%|█████████▋| 97/100 [08:31<00:15,  5.25s/it]\u001b[A\n",
      " 98%|█████████▊| 98/100 [08:36<00:10,  5.25s/it]\u001b[A\n",
      " 99%|█████████▉| 99/100 [08:41<00:05,  5.26s/it]\u001b[A\n",
      "100%|██████████| 100/100 [08:47<00:00,  5.24s/it]\u001b[A"
     ]
    }
   ],
   "source": [
    "from tqdm import trange\n",
    "\n",
    "auc_var_naives = []\n",
    "auc_var_params = []\n",
    "auc_var_delongs = []\n",
    "auc_var_boots = []\n",
    "auc_ci_lows = []\n",
    "auc_ci_highs = []\n",
    "aucs_cv_means = []\n",
    "aucs = []\n",
    "\n",
    "for i in trange(100):\n",
    "    X, y = make_classification(n_samples=120)\n",
    "    X_train, X_test, y_train, y_test = train_test_split(X, y, stratify=y)\n",
    "    model.fit(X_train, y_train)\n",
    "    y_pred = model.predict_proba(X_test)[:, 1]\n",
    "    # estimate auc and variance\n",
    "    auc = roc_auc_score(y_test, y_pred)\n",
    "    n, m = y_test.sum(), len(y_test) - y_test.sum()\n",
    "    auc_var_naive = roc_auc_variance_from_mann_whitney(n, m)\n",
    "    auc_var_param = roc_auc_variance(auc, n, m)\n",
    "    _, auc_var_delong = delong_roc_variance(y_test, y_pred)\n",
    "    aucs_cv_mean, auc_var_boot, (auc_ci_low, auc_ci_high) = cv_auc_var_ci(model, X, y, B=500)\n",
    "\n",
    "    auc_var_naives.append(auc_var_naive)\n",
    "    auc_var_params.append(auc_var_param)\n",
    "    auc_var_delongs.append(auc_var_delong)\n",
    "    auc_var_boots.append(auc_var_boot)\n",
    "    auc_ci_lows.append(auc_ci_low)\n",
    "    auc_ci_highs.append(auc_ci_high)\n",
    "    aucs_cv_means.append(aucs_cv_mean)\n",
    "    aucs.append(auc)"
   ]
  },
  {
   "cell_type": "code",
   "execution_count": 93,
   "metadata": {},
   "outputs": [],
   "source": [
    "auc_var_naives = np.sqrt(np.array(auc_var_naives))\n",
    "auc_var_params = np.sqrt(np.array(auc_var_params))\n",
    "auc_var_delongs = np.sqrt(np.array(auc_var_delongs))\n",
    "auc_var_boots = np.array(auc_var_boots)\n",
    "auc_ci_lows = np.array(auc_ci_lows)\n",
    "auc_ci_highs = np.array(auc_ci_highs)\n",
    "aucs_cv_means = np.array(aucs_cv_means)\n",
    "aucs = np.array(aucs)"
   ]
  },
  {
   "cell_type": "code",
   "execution_count": 94,
   "metadata": {},
   "outputs": [
    {
     "data": {
      "text/plain": [
       "1.0"
      ]
     },
     "execution_count": 94,
     "metadata": {},
     "output_type": "execute_result"
    }
   ],
   "source": [
    "((aucs - 2 * auc_var_naives < 0.92) & (0.92 < aucs + 2 * auc_var_naives)).mean()"
   ]
  },
  {
   "cell_type": "code",
   "execution_count": 95,
   "metadata": {},
   "outputs": [
    {
     "data": {
      "text/plain": [
       "1.0"
      ]
     },
     "execution_count": 95,
     "metadata": {},
     "output_type": "execute_result"
    }
   ],
   "source": [
    "((aucs - 2 * auc_var_params < 0.92) & (0.92 < aucs + 2 * auc_var_params)).mean()"
   ]
  },
  {
   "cell_type": "code",
   "execution_count": 96,
   "metadata": {},
   "outputs": [
    {
     "data": {
      "text/plain": [
       "1.0"
      ]
     },
     "execution_count": 96,
     "metadata": {},
     "output_type": "execute_result"
    }
   ],
   "source": [
    "((aucs - 2 * auc_var_delongs < 0.92) & (0.92 < aucs + 2 * auc_var_delongs)).mean()"
   ]
  },
  {
   "cell_type": "code",
   "execution_count": 97,
   "metadata": {},
   "outputs": [
    {
     "data": {
      "text/plain": [
       "1.0"
      ]
     },
     "execution_count": 97,
     "metadata": {},
     "output_type": "execute_result"
    }
   ],
   "source": [
    "((aucs_cv_means - 2 * auc_var_boots < 0.92) & (0.92 < aucs_cv_means + 2 * auc_var_boots)).mean()"
   ]
  },
  {
   "cell_type": "code",
   "execution_count": 98,
   "metadata": {},
   "outputs": [
    {
     "data": {
      "text/plain": [
       "0.27"
      ]
     },
     "execution_count": 98,
     "metadata": {},
     "output_type": "execute_result"
    }
   ],
   "source": [
    "((auc_ci_lows < 0.92) & (0.92 < auc_ci_highs)).mean()"
   ]
  },
  {
   "cell_type": "markdown",
   "metadata": {},
   "source": [
    "Три проблемы:\n",
    "\n",
    "  * Как мы увидели, классические способы оценки дисперсии AUC быстры, но дают симметричный интервал;\n",
    "  * $r\\times q-\\mathrm{fold}$ CV даёт более красивые интервалы, но крайне дорогой по времени;\n",
    "  * Для `LogisticRegression` видна некоторая смещённость оценок."
   ]
  },
  {
   "cell_type": "markdown",
   "metadata": {},
   "source": [
    "# 3. $\\chi^2$-тест v.s. тест Фишера\n",
    "\n",
    "\n",
    "## Постановка задачи\n",
    "\n",
    "|  . | Мужчин | Женщин  | Всего  |\n",
    "|---|---|---|---|\n",
    "| Контрольная группа  | 8  |  7 |  15 |\n",
    "| Инсульт  |  14 |  1 |  15 |\n",
    "|  Всего  |  22 | 8  | 30  |\n",
    "\n",
    "Мы тестируем гипотезу:\n",
    "\n",
    "$$\\mathbb{H}_0:~~\\textrm{Пропорции мужчин и женщин в каждой группе равны(независимы от пола)}$$  $$~~\\mathrm{vs}~~$$  $$\\mathbb{H}_1: ~~ \\textrm{не равны}$$\n",
    "\n",
    "Тест считает все возможные способы разбросать 30 наблюдений по таблице 2 x 2 с такими же суммами по строкам и столбцам и с такими же пропорциями, как в таблице выше.\n",
    "\n",
    "\n",
    "## Точный тест Фишера \n",
    "\n",
    "Цитата с Вики:\n",
    "\n",
    "\n",
    "Точный тест(англ. exact test) — такой статистический критерий, при котором в ходе проверки гипотезы вероятность ошибки первого рода всегда равна уровню значимости. Соответственно, можно рассчитать точное p-значение (англ. exact p-value).\n",
    "\n",
    "\n",
    "\n",
    "|  . | Наблюдения 1 | Наблюдения 2  | Всего в группе   |\n",
    "|-----|-----|-----|-------|\n",
    "| Группа 1  | $n_{11}$  |  $n_{12}$ | $n_{11} + n_{12}$ |\n",
    "| Группа 2  |  $n_{21}$ |  $n_{22}$ | $n_{21} + n_{22}$ |\n",
    "|  Всего  |  $n_{11} + n_{21}$ | $n_{12} + n_{22}$ | $n_{11} + n_{21} + n_{12} + n_{22}$  |\n",
    "\n",
    "\n",
    "$$p = \\frac{ C_{n_{11} + n_{12}}^{c_{11}} C_{n_{21} + n_{22}}^{c_{21}} }{ C_{n_{11} + n_{12} + n_{21} + n_{22}}^{ n_{11} + n_{21} } }$$\n",
    "\n",
    "\n"
   ]
  },
  {
   "cell_type": "code",
   "execution_count": 92,
   "metadata": {},
   "outputs": [
    {
     "name": "stdout",
     "output_type": "stream",
     "text": [
      "Fisher exact test p-value: 1.0000\n"
     ]
    }
   ],
   "source": [
    "from scipy.stats import fisher_exact\n",
    "\n",
    "con_m, con_f = 8, 7\n",
    "str_m, str_f = 14, 14\n",
    "\n",
    "design_matrix = np.array([[con_m, con_f], [str_m, str_f]])\n",
    "\n",
    "oddsratio, pvalue = fisher_exact(design_matrix)\n",
    "\n",
    "\n",
    "print('Fisher exact test p-value: {:.4f}'.format(pvalue))"
   ]
  },
  {
   "cell_type": "markdown",
   "metadata": {},
   "source": [
    "## $\\chi^2$-тест\n",
    "\n",
    "$$\\chi^2 = \\sum\\limits_{i,j} \\frac{(E_{ij} - O_{ij})^2}{E_{ij}},$$\n",
    "\n",
    "где $O_{ij}$ - число в ячейке $ij$, $E_{ij}$ - математическое ожидание числа наблюдений при нулевой гипотезе."
   ]
  },
  {
   "cell_type": "code",
   "execution_count": 52,
   "metadata": {},
   "outputs": [
    {
     "name": "stdout",
     "output_type": "stream",
     "text": [
      "Chi2 test p-value: 0.0390\n"
     ]
    }
   ],
   "source": [
    "from scipy.stats import chi2_contingency\n",
    "\n",
    "chi2, p, dof, ex = chi2_contingency(design_matrix, correction=True)\n",
    "\n",
    "print('Chi2 test p-value: {:.4f}'.format(p))"
   ]
  },
  {
   "cell_type": "code",
   "execution_count": 53,
   "metadata": {},
   "outputs": [
    {
     "data": {
      "text/plain": [
       "4.261363636363637"
      ]
     },
     "execution_count": 53,
     "metadata": {},
     "output_type": "execute_result"
    }
   ],
   "source": [
    "chi2"
   ]
  },
  {
   "cell_type": "code",
   "execution_count": 54,
   "metadata": {},
   "outputs": [],
   "source": [
    "E = (np.outer(design_matrix.sum(axis=1), design_matrix.sum(axis=0)) / 30)"
   ]
  },
  {
   "cell_type": "code",
   "execution_count": 55,
   "metadata": {},
   "outputs": [
    {
     "data": {
      "text/plain": [
       "4.261363636363637"
      ]
     },
     "execution_count": 55,
     "metadata": {},
     "output_type": "execute_result"
    }
   ],
   "source": [
    "((np.abs(E - design_matrix) - 0.5)**2 / E).sum()"
   ]
  },
  {
   "cell_type": "code",
   "execution_count": 56,
   "metadata": {},
   "outputs": [],
   "source": [
    "from scipy.stats import chi2"
   ]
  },
  {
   "cell_type": "code",
   "execution_count": 57,
   "metadata": {},
   "outputs": [
    {
     "data": {
      "text/plain": [
       "0.03898861209635851"
      ]
     },
     "execution_count": 57,
     "metadata": {},
     "output_type": "execute_result"
    }
   ],
   "source": [
    "1 - chi2.cdf(((np.abs(E - design_matrix) - 0.5)**2 / E).sum(), df=1)"
   ]
  },
  {
   "cell_type": "code",
   "execution_count": null,
   "metadata": {},
   "outputs": [],
   "source": []
  }
 ],
 "metadata": {
  "kernelspec": {
   "display_name": "Python 3",
   "language": "python",
   "name": "python3"
  },
  "language_info": {
   "codemirror_mode": {
    "name": "ipython",
    "version": 3
   },
   "file_extension": ".py",
   "mimetype": "text/x-python",
   "name": "python",
   "nbconvert_exporter": "python",
   "pygments_lexer": "ipython3",
   "version": "3.6.8"
  }
 },
 "nbformat": 4,
 "nbformat_minor": 2
}
