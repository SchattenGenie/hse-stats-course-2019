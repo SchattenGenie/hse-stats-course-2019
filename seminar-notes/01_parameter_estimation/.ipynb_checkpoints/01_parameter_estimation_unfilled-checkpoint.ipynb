{
 "cells": [
  {
   "cell_type": "markdown",
   "metadata": {},
   "source": [
    "# Вероятность\n",
    "\n",
    "## Условная вероятность\n",
    "\n",
    "Пусть есть два события $A$ и $B$. Тогда условная вероятность вводится следующим образом(аксиоматически):\n",
    "\n",
    "$$p(A|B) = \\frac{p(A, B)}{p(B)}$$\n",
    "\n",
    "Которое показывает какая вероятность наступить событию $A$, если событие $B$ уже наступило.\n",
    "\n",
    "Если $p(A|B)=p(A)$, то говорят что событие $A$ не зависит от $B$."
   ]
  },
  {
   "cell_type": "markdown",
   "metadata": {},
   "source": [
    "## Формула Байеса\n",
    "\n",
    "Формула Байеса выводится из формулы условной вероятности в два щелчка:\n",
    "\n",
    "$$p(A|B) = \\frac{p(A, B)}{p(B)} = \\frac{p(A) p(B|A)}{p(B)}$$\n",
    "\n",
    "Мы к ней ещё вернёмся."
   ]
  },
  {
   "cell_type": "markdown",
   "metadata": {},
   "source": [
    "# Задача 0.\n",
    "\n",
    "В семье два ребёнка. Каждый ребёнок может быть или мальчиком, или девочкой с равной вероятностью 50%.\n",
    "\n",
    "Тогда полное пространство событий описывается четырьмя событиями.\n",
    "\n",
    "![](full_space_boy_girl.png)"
   ]
  },
  {
   "cell_type": "markdown",
   "metadata": {},
   "source": [
    "#### Если известно что в семье два ребёнка, то какая вероятность, что оба мальчики?\n",
    "\n",
    "$$p(bb) = ?$$\n",
    "\n",
    "![](two_boys.png)"
   ]
  },
  {
   "cell_type": "markdown",
   "metadata": {},
   "source": [
    "#### Если известно что в семье два ребёнка и один из них мальчик, то какая вероятность, что другой тоже мальчик?\n",
    "\n",
    "$$p(bb | b) = ?$$\n",
    "\n",
    "$p(b)$ - вероятность что хотя бы один мальчик.\n",
    "\n",
    "![](one_is_a_boy.png)"
   ]
  },
  {
   "cell_type": "markdown",
   "metadata": {},
   "source": [
    "#### Если известно что в семье два ребёнка и старший из них мальчик, то какая вероятность, что младший тоже мальчик?\n",
    "\n",
    "$$p(bb | b_{old} ) = ?$$\n",
    "\n",
    "Разница между предыдущим в том что мы определили порядок на парах (мальчик/девочка, мальчик/девочка), что сильно влияет на вероятности(см. картинку).\n",
    "\n",
    "![](old_is_boy.png)"
   ]
  },
  {
   "cell_type": "markdown",
   "metadata": {},
   "source": [
    "#### Если известно что в семье два ребёнка и один из них мальчик родившийся во вторник, то какая вероятность, что второй тоже мальчик?\n",
    "\n",
    "$$p(bb | b_{tuesday} ) = ?$$\n",
    "\n",
    "![](tuesday_boy.png)"
   ]
  },
  {
   "cell_type": "markdown",
   "metadata": {},
   "source": [
    "#### Мы проходили мимо дома семьи и увидели в окне мальчика, какая вероятность что второй ребёнок тоже мальчик?\n",
    "\n",
    "$$p(b) = \\frac{1}{2}$$\n",
    "\n",
    "![](one_is_a_boy_obs.png)\n",
    "\n",
    "Важный момент! \n",
    "\n",
    "Априорное знание что один ребёнок мальчик не тоже самое что пронаблюдать что один из детей мальчик."
   ]
  },
  {
   "cell_type": "code",
   "execution_count": null,
   "metadata": {},
   "outputs": [],
   "source": [
    "import numpy as np\n",
    "import pandas as pd\n",
    "from scipy import stats\n",
    "from scipy.stats import norm\n",
    "import seaborn as sns\n",
    "import matplotlib.pyplot as plt\n",
    "sns.set(font_scale=2)"
   ]
  },
  {
   "cell_type": "markdown",
   "metadata": {},
   "source": [
    "# 2. Жизненная задачка\n",
    "\n",
    "По Дарвину приспособленность является центральной концепцией теории эволюции. \n",
    "\n",
    "Давайте определим \"относительную приспособленность\" как среднее количество выживших представителей одного генотипа к среднему количеству выживших представителей другого генотипа. \n",
    "\n",
    "Eyre-Walker (2006) ( https://www.ncbi.nlm.nih.gov/pubmed/16547091 ) предположили, что функция преспособленности принадлежит семейству гамма-распределений случайных величин. \n",
    "\n",
    "Они проверили своё предположение для популяций(кого?) с мутацией `deleterious amino acid`(что это значит?). \n",
    "\n",
    "Они получили следующие оценки на параметры гамма-распределения:\n",
    " \n",
    "$$\\hat{\\alpha} = 0.23,~~~ \\hat{\\beta} = 5.35$$\n",
    "\n",
    "\n",
    "$$\\Gamma(x|\\alpha, \\beta) =  \\frac{\\beta^\\alpha}{\\Gamma(\\alpha)} x^{\\alpha-1} \\exp(-\\beta x),$$\n",
    "\n",
    "где $\\Gamma(\\alpha)$ -- гамма-функция Эйлера(для целых $\\alpha$: $\\Gamma(k) = (\\alpha-1)!$)"
   ]
  },
  {
   "cell_type": "markdown",
   "metadata": {},
   "source": [
    "#### Зададимся следующим вопросом\n",
    "\n",
    "Если мы оцениваем параметры $\\alpha$ и $\\beta$ по случайной выборке, как сильно мы в среднем ошибаемся при размере выборки $N=100$? \n",
    "\n",
    "Т.е. нас интересуют две вещи: __дисперсии__ наших оценок и __корреляция__ оценок.\n",
    "\n",
    "Оценивать мы будем их по следующему алгоритму:\n",
    "\n",
    "  1. Сэмплируем выборку $X \\sim \\Gamma(x|\\hat{\\alpha}, \\hat{\\beta})$\n",
    "  2. Оцениваем $\\alpha_{fit}, \\beta_{fit}$ по выборке $X$\n",
    "  3. Сохраняем $\\alpha_{fit}, \\beta_{fit}$\n",
    "  4. Повторяем шаги 1-3 несколько тысяч раз\n",
    "  5. Считаем дисперсии и корреляции $\\{\\alpha_{fit}, \\beta_{fit}\\}_{i=1}^{B}$"
   ]
  },
  {
   "cell_type": "markdown",
   "metadata": {},
   "source": [
    "## 2.1 Метод оценки параметров максимума правдоподобия\n",
    "\n",
    "MLE(Метод оценки параметров максимума правдоподобия) основывается на максимизации вероятности пронаблюдать выборку.\n",
    "\n",
    "$$\\mathcal{L} = \\prod p(x_i|\\theta)$$\n",
    "\n",
    "Будем рассматривать MLE на примере задачи выше."
   ]
  },
  {
   "cell_type": "code",
   "execution_count": null,
   "metadata": {},
   "outputs": [],
   "source": [
    "from scipy.stats import gamma"
   ]
  },
  {
   "cell_type": "code",
   "execution_count": null,
   "metadata": {},
   "outputs": [],
   "source": [
    "# scale == \\theta\n",
    "# в scipy все распределения определены с точность до смещения и масштаба\n",
    "x = np.linspace(0, 1, 100)\n",
    "alpha = 0.23\n",
    "beta = 5.35\n",
    "plt.plot(gamma.pdf(x, scale=1 / beta, a=alpha))"
   ]
  },
  {
   "cell_type": "code",
   "execution_count": null,
   "metadata": {},
   "outputs": [],
   "source": [
    "np.random.seed(1337)\n",
    "X = gamma.rvs(scale=1 / beta, a=alpha, size=100)"
   ]
  },
  {
   "cell_type": "code",
   "execution_count": null,
   "metadata": {},
   "outputs": [],
   "source": [
    "gamma.pdf(X[0], scale=1 / beta, a=alpha)"
   ]
  },
  {
   "cell_type": "code",
   "execution_count": null,
   "metadata": {},
   "outputs": [],
   "source": [
    "np.prod(gamma.pdf(X, scale=1 / beta, a=2.5))"
   ]
  },
  {
   "cell_type": "markdown",
   "metadata": {},
   "source": [
    "Уравнение правдоподобия чаще всего записывается с использованием логарифма вероятности, так как в этом случае произведение переходит в сумму, что сильно упрощает жизнь.\n",
    "\n",
    "$$\\mathcal{\\log L} = \\sum\\limits_i \\log p(x_i|\\theta)$$\n",
    "\n",
    "  * более хорошая численная стабильность(предотвращает overflow или underflow ошибки);\n",
    "  * более (относительно)точные градиенты;\n",
    "  * более гладкая задача(методы оптимизации лучше работают).\n",
    "\n",
    "Посмотрим на зависимость log-likelihood для нашей задачи с гамма-распределением.\n",
    "\n",
    "$$\\mathcal{L} = \\prod\\limits_i \\frac{\\beta^\\alpha}{\\Gamma(\\alpha)} {x_i}^{\\alpha-1} \\exp(-\\beta x_i)$$\n",
    "\n",
    "$$\\mathcal{\\log L} = \\sum\\limits_i \\left(  \\alpha \\log \\beta - \\log \\Gamma(\\alpha) - \\beta x_i + (\\alpha - 1) \\log x_i \\right)$$\n",
    "\n",
    "(Обратим внимание насколько простой стала зависимость от $x_i$:)"
   ]
  },
  {
   "cell_type": "code",
   "execution_count": null,
   "metadata": {},
   "outputs": [],
   "source": [
    "a = np.linspace(0, 1, 200)\n",
    "plt.plot(\n",
    "    a, \n",
    "    np.prod(gamma.pdf(X[:, np.newaxis], \n",
    "                      scale=1 / beta, \n",
    "                      a=a), \n",
    "            axis=0)\n",
    ")\n",
    "plt.title('Likelihood')"
   ]
  },
  {
   "cell_type": "code",
   "execution_count": null,
   "metadata": {},
   "outputs": [],
   "source": [
    "plt.plot(\n",
    "    a, \n",
    "    np.sum(gamma.logpdf(X[:, np.newaxis], \n",
    "                        scale=1 / beta, \n",
    "                        a=a), \n",
    "            axis=0)\n",
    ")\n",
    "plt.title('Log-Likelihood')"
   ]
  },
  {
   "cell_type": "markdown",
   "metadata": {},
   "source": [
    "### MLE? MLE!\n",
    "\n",
    "В большинстве задач, если это не игровые примеры, найти явную форму для оценки параметров с помощью MLE очень сложно.\n",
    "\n",
    "$$\\theta^* = \\arg \\max \\log \\mathcal{L}(X, \\theta)$$\n",
    "\n",
    "<Вывести MLE для гамма-распределения>\n",
    "\n",
    "Увы, точного решения нет. \n",
    "\n",
    "Но есть кое-что лучше(и более применимое на практике)"
   ]
  },
  {
   "cell_type": "code",
   "execution_count": null,
   "metadata": {},
   "outputs": [],
   "source": [
    "gamma.fit?"
   ]
  },
  {
   "cell_type": "code",
   "execution_count": null,
   "metadata": {},
   "outputs": [],
   "source": [
    "alpha, _, beta = gamma.fit(X, floc=0.)\n",
    "beta = 1 / beta\n",
    "print(alpha, beta)"
   ]
  },
  {
   "cell_type": "markdown",
   "metadata": {},
   "source": [
    "## Пришло время эксперимента :)"
   ]
  },
  {
   "cell_type": "code",
   "execution_count": null,
   "metadata": {},
   "outputs": [],
   "source": [
    "%%time\n",
    "boot = 100000\n",
    "alphas = []\n",
    "betas = []\n",
    "fitted_alphas = []\n",
    "fitted_betas = []\n",
    "for i in range(boot):\n",
    "    <YOUR CODE>\n",
    "    fitted_betas.append(1 / fit_beta)\n",
    "    fitted_alphas.append(fit_alpha)"
   ]
  },
  {
   "cell_type": "code",
   "execution_count": null,
   "metadata": {},
   "outputs": [],
   "source": [
    "plt.hist(fitted_alphas, bins=100);\n",
    "alpha_q5, alhpa_q95 = np.percentile(fitted_alphas, [5, 95])\n",
    "plt.axvline(x=alpha, linewidth=3, color='r',linestyle='--')\n",
    "plt.axvline(x=alpha_q5, linewidth=3, color='g',linestyle='--')\n",
    "plt.axvline(x=alhpa_q95, linewidth=3, color='g',linestyle='--')"
   ]
  },
  {
   "cell_type": "code",
   "execution_count": null,
   "metadata": {},
   "outputs": [],
   "source": [
    "np.mean(np.array(fitted_alphas) - alpha)"
   ]
  },
  {
   "cell_type": "code",
   "execution_count": null,
   "metadata": {},
   "outputs": [],
   "source": [
    "plt.hist(fitted_betas, bins=100);\n",
    "beta_q5, beta_q95 = np.percentile(fitted_betas, [5, 95])\n",
    "plt.axvline(x=beta, linewidth=3, color='r',linestyle='--')\n",
    "plt.axvline(x=beta_q5, linewidth=3, color='g',linestyle='--')\n",
    "plt.axvline(x=beta_q95, linewidth=3, color='g',linestyle='--')"
   ]
  },
  {
   "cell_type": "code",
   "execution_count": null,
   "metadata": {},
   "outputs": [],
   "source": [
    "np.mean(np.array(fitted_betas) - beta)"
   ]
  },
  {
   "cell_type": "code",
   "execution_count": null,
   "metadata": {},
   "outputs": [],
   "source": [
    "plt.scatter(fitted_alphas, fitted_betas)"
   ]
  },
  {
   "cell_type": "code",
   "execution_count": null,
   "metadata": {},
   "outputs": [],
   "source": [
    "np.corrcoef(fitted_alphas, fitted_betas)"
   ]
  },
  {
   "cell_type": "code",
   "execution_count": null,
   "metadata": {},
   "outputs": [],
   "source": [
    "from scipy.stats.stats import pearsonr\n",
    "pearsonr(fitted_alphas, fitted_betas)"
   ]
  },
  {
   "cell_type": "markdown",
   "metadata": {},
   "source": [
    "## 2.2 Метод моментов\n",
    "\n",
    "Идея простая. Если мы хотим определить параметры некоторого распределения $p(x | \\theta)$, то давайте приравняем моменты данного распределения к моментам подсчитанным по данным($X = \\{ x_1, \\dots, x_n \\}$) и решим уравнения относительно данных моментов.\n",
    "\n",
    "Моменты по данным считаются следующим образом:\n",
    "\n",
    "$$\\hat{\\mu}_k = \\frac{1}{n} \\sum\\limits_{i=1}^{n} x_i^k$$\n",
    "\n",
    "Моменты распределений:\n",
    "\n",
    "$$\\mu_k = \\sum\\limits_{i=1}^{n} x^k p(x | \\theta) dx$$"
   ]
  },
  {
   "cell_type": "code",
   "execution_count": null,
   "metadata": {},
   "outputs": [],
   "source": [
    "from scipy.stats import gamma\n",
    "# scale == \\theta\n",
    "# в scipy все распределения определены с точность до смещения и масштаба\n",
    "x = np.linspace(0, 1, 100)\n",
    "alpha = 0.23\n",
    "beta = 5.35\n",
    "plt.plot(gamma.pdf(x, scale=1 / beta, a=alpha))"
   ]
  },
  {
   "cell_type": "markdown",
   "metadata": {},
   "source": [
    "Среднее и дисперсия гамма-распределения:\n",
    "\n",
    "$$\\mu(\\Gamma) = \\frac{\\alpha}{\\beta}$$\n",
    "\n",
    "$$Var(\\Gamma) = \\frac{\\alpha}{\\beta^2}$$\n",
    "\n",
    "Применяем метод моментов:\n",
    "\n",
    "<Вывести оценки на параметры с помощью МоМ>"
   ]
  },
  {
   "cell_type": "code",
   "execution_count": null,
   "metadata": {},
   "outputs": [],
   "source": [
    "%%time\n",
    "boot = 100000\n",
    "fitted_alphas = []\n",
    "fitted_betas = []\n",
    "for i in range(boot):\n",
    "    X = gamma.rvs(scale=1 / beta, a=alpha, size=100)\n",
    "    mu_1 = <YOUR CODE>\n",
    "    mu_2 = <YOUR CODE>\n",
    "    fitted_betas.append(\n",
    "        <YOUR CODE>\n",
    "    )\n",
    "    \n",
    "    fitted_alphas.append(\n",
    "        <YOUR CODE>\n",
    "    )"
   ]
  },
  {
   "cell_type": "code",
   "execution_count": null,
   "metadata": {},
   "outputs": [],
   "source": [
    "plt.hist(fitted_alphas, bins=100);\n",
    "alpha_q5, alhpa_q95 = np.percentile(fitted_alphas, [5, 95])\n",
    "plt.axvline(x=alpha, linewidth=3, color='r',linestyle='--')\n",
    "plt.axvline(x=alpha_q5, linewidth=3, color='g',linestyle='--')\n",
    "plt.axvline(x=alhpa_q95, linewidth=3, color='g',linestyle='--')"
   ]
  },
  {
   "cell_type": "code",
   "execution_count": null,
   "metadata": {},
   "outputs": [],
   "source": [
    "np.mean(np.array(fitted_alphas) - alpha)"
   ]
  },
  {
   "cell_type": "code",
   "execution_count": null,
   "metadata": {},
   "outputs": [],
   "source": [
    "plt.hist(fitted_betas, bins=100);\n",
    "beta_q5, beta_q95 = np.percentile(fitted_betas, [5, 95])\n",
    "plt.axvline(x=beta, linewidth=3, color='r',linestyle='--')\n",
    "plt.axvline(x=beta_q5, linewidth=3, color='g',linestyle='--')\n",
    "plt.axvline(x=beta_q95, linewidth=3, color='g',linestyle='--')"
   ]
  },
  {
   "cell_type": "code",
   "execution_count": null,
   "metadata": {},
   "outputs": [],
   "source": [
    "np.mean(np.array(fitted_betas) - beta)"
   ]
  },
  {
   "cell_type": "code",
   "execution_count": null,
   "metadata": {},
   "outputs": [],
   "source": [
    "plt.scatter(fitted_alphas, fitted_betas)"
   ]
  },
  {
   "cell_type": "code",
   "execution_count": null,
   "metadata": {},
   "outputs": [],
   "source": [
    "from scipy.stats.stats import pearsonr\n",
    "np.corrcoef(fitted_alphas, fitted_betas)"
   ]
  },
  {
   "cell_type": "code",
   "execution_count": null,
   "metadata": {},
   "outputs": [],
   "source": [
    "pearsonr(fitted_alphas, fitted_betas)"
   ]
  },
  {
   "cell_type": "markdown",
   "metadata": {},
   "source": [
    "## Выводы\n",
    "\n",
    "Что мы можем сказать, сравнив метод моментов и MLE оценки? Как они соотносятся?"
   ]
  },
  {
   "cell_type": "markdown",
   "metadata": {},
   "source": [
    "# 3. MAP"
   ]
  },
  {
   "cell_type": "markdown",
   "metadata": {},
   "source": [
    "Предположим, что вы подбросили моменту один раз и у вас выпал орёл. \n",
    "\n",
    "Распределение описывается распредлением Бернулли: $p(x=1, q) = q$.\n",
    "\n",
    "Для выборки $x_1, x_2, \\dots, x_N$ правдоподобие записывается следующим образом:\n",
    "\n",
    "$$p(X, q) = ?$$\n",
    "\n",
    "$$\\log p(X, q) = ?$$\n",
    "\n",
    "Тогда оценка на параметры высчитывается следующим образом:\n",
    "\n",
    "$$\\frac{\\partial }{\\partial q} \\log p(X, q) = ?$$\n",
    "\n",
    "Получаем:\n",
    "\n",
    "$$q = ?$$\n",
    "\n",
    "В согласии с методом максимума правдоподобия следует, что $p=1$, т.е. следует что монетка всегда будет выпадать орлом.\n",
    "\n",
    "Такая оценка не очень хорошо согласуется с реальностью. "
   ]
  },
  {
   "cell_type": "markdown",
   "metadata": {},
   "source": [
    "Однако у вас есть некоторое априорное знание. Вы точно знаете, что честная монетка выпадает орлом в 50% случаев.\n",
    "\n",
    "Можем ли мы как-то это использовать? Да, это обеспечивается введением априорного распределения.\n",
    "\n",
    "В MLE оценка параметров выглядела так:\n",
    "\n",
    "$$\\theta = \\mathrm{argmax} \\log P(X | \\theta) = \\mathrm{argmax} \\sum \\log p(x_i, \\theta) $$\n",
    "\n",
    "\n",
    "В MAP мы говорим, что есть ещё распределение $P(\\theta)$, которое появляется из некоторых наших знаний о мире. Тогда MAP записывается следующим образом:\n",
    "\n",
    "$$\n",
    "\\theta = \\mathrm{argmax}  P(X | \\theta) P(\\theta) = \\mathrm{argmax} \\left( \\sum  \\log p(x_i, \\theta) \\right) P(\\theta)\n",
    "$$"
   ]
  },
  {
   "cell_type": "markdown",
   "metadata": {},
   "source": [
    "Вернёмся к монете.\n",
    "\n",
    "Априорное распределени моделируется бета-распределением у которого плотность вероятности выглядит так:\n",
    "\n",
    "![betapdf](https://wikimedia.org/api/rest_v1/media/math/render/svg/125fdaa41844a8703d1a8610ac00fbf3edacc8e7)\n",
    "\n",
    "![beta](https://upload.wikimedia.org/wikipedia/commons/thumb/f/f3/Beta_distribution_pdf.svg/531px-Beta_distribution_pdf.svg.png)\n",
    "\n",
    "В таком случае:\n",
    "\n",
    "$$p(X, q) p(q) = ?$$\n",
    "\n",
    "Лог-вероятность:\n",
    "\n",
    "$$\\log p(X, q) p(q) = ? $$\n",
    "\n",
    "Производная:\n",
    "\n",
    "\n",
    "$$\\frac{\\partial }{\\partial q} \\log p(X, q) p(q) = ?$$"
   ]
  },
  {
   "cell_type": "markdown",
   "metadata": {},
   "source": [
    "Решая уравнение выше получаем:\n",
    "\n",
    "$$\\mu = ?$$\n",
    "\n",
    "\n",
    "Пусть наш приор $\\alpha=\\beta=2$(см. картинку выше).\n",
    "\n",
    "Тогда при одном броске монеты получаем следующую оценку:\n",
    "\n",
    "$$q = ?$$"
   ]
  },
  {
   "cell_type": "code",
   "execution_count": null,
   "metadata": {},
   "outputs": [],
   "source": []
  },
  {
   "cell_type": "code",
   "execution_count": null,
   "metadata": {},
   "outputs": [],
   "source": []
  },
  {
   "cell_type": "markdown",
   "metadata": {},
   "source": [
    "# Бонусная задача\n",
    "\n"
   ]
  },
  {
   "cell_type": "code",
   "execution_count": null,
   "metadata": {},
   "outputs": [],
   "source": []
  }
 ],
 "metadata": {
  "kernelspec": {
   "display_name": "Python 3",
   "language": "python",
   "name": "python3"
  },
  "language_info": {
   "codemirror_mode": {
    "name": "ipython",
    "version": 3
   },
   "file_extension": ".py",
   "mimetype": "text/x-python",
   "name": "python",
   "nbconvert_exporter": "python",
   "pygments_lexer": "ipython3",
   "version": "3.6.8"
  }
 },
 "nbformat": 4,
 "nbformat_minor": 2
}
