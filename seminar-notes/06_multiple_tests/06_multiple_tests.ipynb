{
 "cells": [
  {
   "cell_type": "code",
   "execution_count": 1,
   "metadata": {},
   "outputs": [],
   "source": [
    "import numpy as np\n",
    "import matplotlib.pyplot as plt\n",
    "import seaborn as sns\n",
    "import pandas as pd\n",
    "sns.set()\n",
    "%matplotlib inline"
   ]
  },
  {
   "cell_type": "markdown",
   "metadata": {},
   "source": [
    "$\\newcommand{L}[1]{\\| #1 \\|}\\newcommand{VL}[1]{\\L{ \\vec{#1} }}\\newcommand{R}[1]{\\operatorname{Re}\\,(#1)}\\newcommand{I}[1]{\\operatorname{Im}\\, (#1)}$\n",
    "\n",
    "# 1. Коррекция Бонферрони\n",
    "\n",
    "Коррекция Бонферрони задаёт такую коррекция уровня отсечения по некой статистики, которая регулирует вероятность *хотя бы раз* совершить ошибку I рода. \n",
    "\n",
    "### Family-wise error\n",
    "\n",
    "Мы пытаемся найти $\\theta$ -- threshold(уровень отсечения), что $p(\\mathrm{p-value}_i < \\theta) = \\alpha, \\forall \\mathrm{p-value_i} \\in \\{ \\mathrm{p-value_i} \\}_{i=1}^{n}$\n",
    "\n",
    "### Коррекция Сидака\n",
    "\n",
    "Начнём с более простой коррекции для объяснения -- коррекция Сидака.\n",
    "\n",
    "Вероятность что для всех $n$ тестов p-value *больше* уровня отсечения $\\theta$, *в предположении независимости тестов*:\n",
    "\n",
    "$$\n",
    "(1 - \\theta)^n\n",
    "$$\n",
    "\n",
    "Тогда шанс, что хотя бы для одного p-value верно $\\mathrm{p-value} \\le \\theta$:\n",
    "\n",
    "$$\n",
    "1 - (1 - \\theta)^n\n",
    "$$\n",
    "\n",
    "Зададим групповую вероятность ошибки I первого рода(FWER):\n",
    "\n",
    "$$\n",
    "\\alpha_{fwe} = 1 - (1 - \\theta)^n\n",
    "$$\n",
    "\n",
    "И найдём $\\theta$:\n",
    "\n",
    "$$\n",
    "\\theta = 1 - (1 - \\alpha_{fwe})^{1 / n}\n",
    "$$\n",
    "\n",
    "Например, для $\\alpha_{fwe} = 0.05$:"
   ]
  },
  {
   "cell_type": "code",
   "execution_count": 2,
   "metadata": {},
   "outputs": [
    {
     "name": "stdout",
     "output_type": "stream",
     "text": [
      "0.005116196891823743\n"
     ]
    }
   ],
   "source": [
    "def sidak_thresh(alpha_fwe, n):\n",
    "    return 1 - (1 - alpha_fwe)**(1./n)\n",
    "\n",
    "print(sidak_thresh(0.05, 10))"
   ]
  },
  {
   "cell_type": "markdown",
   "metadata": {},
   "source": [
    "# Коррекция Бонферрони\n",
    "\n",
    "Коррекция Бонферрони использует неравенство Буля, которое утверждает, что вероятность хотя бы одного события не больше чем сумма вероятностей всех индивидуальных событий:\n",
    "\n",
    "$$\n",
    "\\P\\biggl(\\bigcup_{i} A_i\\biggr) \\le \\sum_i {\\mathbb P}(A_i).\n",
    "$$\n",
    "\n",
    "Что очевидно следует из диаграмм Виета.\n",
    "\n",
    "Тогда мы очевидно следует, что требуется следующая коррекция:\n",
    "\n",
    "$$\n",
    "\\frac{\\alpha_{fwe}}{n} \\le \\theta\n",
    "$$\n",
    "\n",
    "Например, для $\\alpha_{fwe} = 0.05$ и $n=10$:"
   ]
  },
  {
   "cell_type": "code",
   "execution_count": 3,
   "metadata": {},
   "outputs": [
    {
     "name": "stdout",
     "output_type": "stream",
     "text": [
      "0.005\n"
     ]
    }
   ],
   "source": [
    "def bonferroni_thresh(alpha_fwe, n):\n",
    "    return alpha_fwe / n\n",
    "\n",
    "print(bonferroni_thresh(0.05, 10))"
   ]
  },
  {
   "cell_type": "markdown",
   "metadata": {},
   "source": [
    "*Коррекция Бонферрони не использует предположения о независимости тестов*\n",
    "\n",
    "Ёто означает, что коррекция Бонферрони более консервативная(строгая), когда предположение о независимости не выполняется.\n",
    "\n",
    "Коррекция Бонферрони\n",
    "$\\theta_{Bonferroni} = \\alpha_{fwe} \\space / \\space n$ всегда строже Спивака $\\theta_{Šidák}$ для $n \\ge 1$, но всё же близка:"
   ]
  },
  {
   "cell_type": "code",
   "execution_count": 4,
   "metadata": {},
   "outputs": [
    {
     "data": {
      "image/png": "[encoded data removed]",
      "text/plain": [
       "<Figure size 576x432 with 1 Axes>"
      ]
     },
     "metadata": {
      "needs_background": "light"
     },
     "output_type": "display_data"
    }
   ],
   "source": [
    "n_tests = np.arange(10, 11000)  # n = 1 through 10\n",
    "\n",
    "plt.figure(figsize=(8, 6))\n",
    "plt.plot(sidak_thresh(0.05, n_tests), label=\"The exact threshold for independent p values, Spivak\")\n",
    "plt.plot(bonferroni_thresh(0.05, n_tests), label=\"The Bonferroni threshold for the same alpha, n\")\n",
    "plt.yscale('log')\n",
    "plt.legend()\n",
    "plt.show()"
   ]
  },
  {
   "cell_type": "markdown",
   "metadata": {},
   "source": [
    "$\\newcommand{L}[1]{\\| #1 \\|}\\newcommand{VL}[1]{\\L{ \\vec{#1} }}\\newcommand{R}[1]{\\operatorname{Re}\\,(#1)}\\newcommand{I}[1]{\\operatorname{Im}\\, (#1)}$\n",
    "\n",
    "# 2. FDR\n",
    "\n",
    "FDR(Ожидаемая доля ложных отклонений) альтернативный вариант коррекции уровня отсечения.\n",
    "\n",
    "В методе FDR мы фиксируем *матожидание числа ошибок первого рода*, т.е.:\n",
    "\n",
    "$$\n",
    "E(\\mathrm{False Positive}) \\leq N \\alpha \n",
    "$$\n",
    "\n",
    "\n",
    "Давайте посмотрим на пример с нормальным распределением:"
   ]
  },
  {
   "cell_type": "code",
   "execution_count": 5,
   "metadata": {},
   "outputs": [],
   "source": [
    "N = 100\n",
    "z_values = np.random.normal(size=N)"
   ]
  },
  {
   "cell_type": "markdown",
   "metadata": {},
   "source": [
    "Переведём Z values в p-values:"
   ]
  },
  {
   "cell_type": "code",
   "execution_count": 6,
   "metadata": {},
   "outputs": [],
   "source": [
    "import scipy.stats as stats\n",
    "normal_distribution = stats.norm(loc=0, scale=1.)\n",
    "# The normal CDF\n",
    "p_values = normal_distribution.cdf(z_values)"
   ]
  },
  {
   "cell_type": "markdown",
   "metadata": {},
   "source": [
    "И отсортируем их:"
   ]
  },
  {
   "cell_type": "code",
   "execution_count": 7,
   "metadata": {},
   "outputs": [
    {
     "data": {
      "text/plain": [
       "Text(0, 0.5, 'p value')"
      ]
     },
     "execution_count": 7,
     "metadata": {},
     "output_type": "execute_result"
    },
    {
     "data": {
      "image/png": "[encoded data removed]",
      "text/plain": [
       "<Figure size 432x288 with 1 Axes>"
      ]
     },
     "metadata": {
      "needs_background": "light"
     },
     "output_type": "display_data"
    }
   ],
   "source": [
    "p_values = np.sort(p_values)\n",
    "i = np.arange(1, N + 1) # the 1-based i index of the p values, as in p(i)\n",
    "plt.plot(i, p_values, '.')\n",
    "plt.xlabel('$i$')\n",
    "plt.ylabel('p value')"
   ]
  },
  {
   "cell_type": "markdown",
   "metadata": {},
   "source": [
    "Мы хотим найти такой трешхолд $\\theta(i)$, что только небольшая часть принятных гипотез будет ошибочно принята.\n",
    "\n",
    "То есть мы хотим подобрать такое $\\theta(i)$, что:\n",
    "\n",
    "$$E(\\mathrm{FalsePositive}) / \\mathrm{chosen} < \\alpha$$\n",
    "\n",
    "\n",
    "$$\n",
    "N p(i) / i < \\alpha \\implies p(i) < \\alpha i / N\n",
    "$$\n",
    "\n",
    "Давайте выберем $\\alpha=0.05$. Нарисуем $q i / N$ (красная линия) вместе с $p(i)$ (синие точки):"
   ]
  },
  {
   "cell_type": "code",
   "execution_count": 8,
   "metadata": {},
   "outputs": [
    {
     "data": {
      "text/plain": [
       "<matplotlib.legend.Legend at 0x7fe1d42bda58>"
      ]
     },
     "execution_count": 8,
     "metadata": {},
     "output_type": "execute_result"
    },
    {
     "data": {
      "image/png": "[encoded data removed]",
      "text/plain": [
       "<Figure size 432x288 with 1 Axes>"
      ]
     },
     "metadata": {
      "needs_background": "light"
     },
     "output_type": "display_data"
    }
   ],
   "source": [
    "q = 0.05\n",
    "plt.plot(i, p_values, 'b.', label='$p(i)$')\n",
    "plt.plot(i, q * i / N, 'r', label='$q i / N$')\n",
    "plt.xlabel('$i$')\n",
    "plt.ylabel('$p$')\n",
    "plt.legend()"
   ]
  },
  {
   "cell_type": "markdown",
   "metadata": {},
   "source": [
    "Теперь добавим шум в наши измерения."
   ]
  },
  {
   "cell_type": "code",
   "execution_count": 9,
   "metadata": {},
   "outputs": [
    {
     "data": {
      "text/plain": [
       "<matplotlib.legend.Legend at 0x7fe1d436f5c0>"
      ]
     },
     "execution_count": 9,
     "metadata": {},
     "output_type": "execute_result"
    },
    {
     "data": {
      "image/png": "[encoded data removed]",
      "text/plain": [
       "<Figure size 432x288 with 1 Axes>"
      ]
     },
     "metadata": {
      "needs_background": "light"
     },
     "output_type": "display_data"
    }
   ],
   "source": [
    "N_signal = 20\n",
    "N_noise = N - N_signal\n",
    "noise_z_values = np.random.normal(size=N_noise)\n",
    "# Add some signal with very low z scores / p values\n",
    "signal_z_values = np.random.normal(loc=-2.5, size=N_signal)\n",
    "mixed_z_values = np.sort(np.concatenate((noise_z_values, signal_z_values)))\n",
    "mixed_p_values = normal_distribution.cdf(mixed_z_values)\n",
    "plt.plot(i, mixed_p_values, 'b.', label='$p(i)$')\n",
    "plt.plot(i, q * i / N, 'r', label='$q i / N$')\n",
    "plt.xlabel('$i$')\n",
    "plt.ylabel('$p$')\n",
    "plt.legend()"
   ]
  },
  {
   "cell_type": "markdown",
   "metadata": {},
   "source": [
    "Посмотрим поближе на начало графика:"
   ]
  },
  {
   "cell_type": "code",
   "execution_count": 10,
   "metadata": {},
   "outputs": [
    {
     "data": {
      "text/plain": [
       "<matplotlib.legend.Legend at 0x7fe1d4385d68>"
      ]
     },
     "execution_count": 10,
     "metadata": {},
     "output_type": "execute_result"
    },
    {
     "data": {
      "image/png": "[encoded data removed]",
      "text/plain": [
       "<Figure size 432x288 with 1 Axes>"
      ]
     },
     "metadata": {
      "needs_background": "light"
     },
     "output_type": "display_data"
    }
   ],
   "source": [
    "first_i = i[:30]\n",
    "plt.plot(first_i, mixed_p_values[:30], 'b.', label='$p(i)$')\n",
    "plt.plot(first_i, q * first_i / N, 'r', label='$q i / N$')\n",
    "plt.xlabel('$i$')\n",
    "plt.ylabel('$p$')\n",
    "plt.legend()"
   ]
  },
  {
   "cell_type": "code",
   "execution_count": 11,
   "metadata": {},
   "outputs": [
    {
     "name": "stdout",
     "output_type": "stream",
     "text": [
      "p_i: 0.005313407827665013\n",
      "i: 13\n"
     ]
    }
   ],
   "source": [
    "below = mixed_p_values < (q * i / N) # True where p(i)<qi/N\n",
    "max_below = np.max(np.where(below)[0]) # Max Python array index where p(i)<qi/N\n",
    "print('p_i:', mixed_p_values[max_below])\n",
    "print('i:', max_below + 1) # Python indices 0-based, we want 1-based"
   ]
  },
  {
   "cell_type": "markdown",
   "metadata": {},
   "source": [
    "# 3. Обучение модели машинного обучения и выбор лучшей\n",
    "\n",
    "## Напишем свой собственный корректор с Бонферрони и FDR\n",
    "\n",
    "\n"
   ]
  },
  {
   "cell_type": "code",
   "execution_count": 12,
   "metadata": {},
   "outputs": [],
   "source": [
    "from sklearn.datasets import make_classification\n",
    "from sklearn.pipeline import Pipeline\n",
    "from sklearn.linear_model import LogisticRegression\n",
    "from sklearn.pipeline import Pipeline\n",
    "from sklearn.model_selection import KFold, cross_val_score, StratifiedKFold\n",
    "from collections import defaultdict\n",
    "from tqdm import tqdm\n",
    "from sklearn.feature_selection import f_regression, chi2\n",
    "from statsmodels.stats import multitest\n",
    "import warnings\n",
    "warnings.filterwarnings(\"ignore\")\n",
    "\n",
    "X, y = make_classification(n_samples=2000, n_features=100, n_informative=4, n_redundant=80, \n",
    "                           n_repeated=10, class_sep=0.4, flip_y=0.1)"
   ]
  },
  {
   "cell_type": "code",
   "execution_count": 13,
   "metadata": {},
   "outputs": [],
   "source": [
    "#Read the input files and read every line\n",
    "from tqdm import tqdm_notebook as tqdm\n",
    "def loadData(trainingFile):\n",
    "    \n",
    "    def convertDataframe(inputFile):\n",
    "        data = pd.DataFrame(columns=range(100000))\n",
    "        \n",
    "        for i in tqdm(range(len(inputFile))):\n",
    "            record = np.fromstring(inputFile[i], dtype=int, sep=' ')\n",
    "            record_bool = [0 for j in range(100000)]\n",
    "            for col in record:\n",
    "                record_bool[col-1] = 1\n",
    "            \n",
    "            data.loc[i] = record_bool\n",
    "            \n",
    "        return data\n",
    "    \n",
    "    with open(trainingFile, \"r\") as fr1:\n",
    "        trainFile = fr1.readlines()\n",
    "    \n",
    "    #Split each line in the two files into label and data  \n",
    "    train_data_list = []\n",
    "    train_labels_list = []\n",
    "    \n",
    "    for inputData in trainFile:\n",
    "        train_labels_list.append(inputData[0])\n",
    "        \n",
    "        #Remove the activity label (0/1) and new line character from each record\n",
    "        inputData = inputData.replace(\"0\\t\", \"\")\n",
    "        inputData = inputData.replace(\"1\\t\", \"\")\n",
    "        inputData = inputData.replace(\"\\n\", \"\")\n",
    "        train_data_list.append(inputData)\n",
    "    \n",
    "    train_labels = np.asarray(train_labels_list)\n",
    "    train_data = convertDataframe(train_data_list)  \n",
    "            \n",
    "    return train_data.values.astype(float), train_labels.astype(float)"
   ]
  },
  {
   "cell_type": "code",
   "execution_count": 14,
   "metadata": {},
   "outputs": [
    {
     "data": {
      "application/vnd.jupyter.widget-view+json": {
       "model_id": "85e84bed2d5b46479cf0695a330740fc",
       "version_major": 2,
       "version_minor": 0
      },
      "text/plain": [
       "HBox(children=(IntProgress(value=0, max=800), HTML(value='')))"
      ]
     },
     "metadata": {},
     "output_type": "display_data"
    },
    {
     "name": "stdout",
     "output_type": "stream",
     "text": [
      "\n"
     ]
    }
   ],
   "source": [
    "X, y = loadData('./train.dat')"
   ]
  },
  {
   "cell_type": "code",
   "execution_count": 15,
   "metadata": {},
   "outputs": [
    {
     "data": {
      "text/plain": [
       "(800, 100000)"
      ]
     },
     "execution_count": 15,
     "metadata": {},
     "output_type": "execute_result"
    }
   ],
   "source": [
    "X.shape"
   ]
  },
  {
   "cell_type": "code",
   "execution_count": 16,
   "metadata": {},
   "outputs": [
    {
     "data": {
      "image/png": "[encoded data removed]",
      "text/plain": [
       "<Figure size 864x576 with 1 Axes>"
      ]
     },
     "metadata": {
      "needs_background": "light"
     },
     "output_type": "display_data"
    }
   ],
   "source": [
    "from sklearn.feature_selection import f_regression\n",
    "\n",
    "_, pvals = f_regression(X=X, y=y)\n",
    "alpha = 0.05\n",
    "\n",
    "plt.figure(figsize=(12, 8))\n",
    "\n",
    "plt.plot(np.arange(len(pvals)), np.sort(pvals), label='p-values')\n",
    "plt.plot(np.arange(len(pvals)), len(pvals) * [alpha / len(pvals)], label='Bonferroni level')\n",
    "plt.plot(np.arange(len(pvals)), np.arange(1, len(pvals) + 1) * alpha / len(pvals), label='FDR correction level')\n",
    "plt.legend()\n",
    "plt.yscale('log')\n",
    "plt.xlim(0, 100000)\n",
    "plt.ylim(np.exp(-20), np.exp(0))\n",
    "plt.show()"
   ]
  },
  {
   "cell_type": "code",
   "execution_count": 17,
   "metadata": {},
   "outputs": [],
   "source": [
    "class FTestCorrector:\n",
    "    def __init__(self, alpha=0.1, method='bonferroni'):\n",
    "        self.alpha = alpha\n",
    "        self.mask = None\n",
    "        self.method = method\n",
    "        \n",
    "    def fit(self, X, y):\n",
    "        from sklearn.feature_selection import f_regression\n",
    "        _, pvals = f_regression(X=X, y=y)\n",
    "        if self.method == 'bonferroni':\n",
    "            self.mask = pvals <= self.alpha / X.shape[1]\n",
    "        elif self.method == 'fdr':\n",
    "            self.mask, *_ = multitest.multipletests(pvals, alpha=self.alpha, method='fdr_bh')\n",
    "        else:\n",
    "            ValueError('No such method')\n",
    "        return self\n",
    "        \n",
    "    def transform(self, X):\n",
    "        return X[:, self.mask]"
   ]
  },
  {
   "cell_type": "code",
   "execution_count": 18,
   "metadata": {},
   "outputs": [],
   "source": [
    "lr = LogisticRegression(solver='liblinear')\n",
    "\n",
    "ftcorr = FTestCorrector(method='bonferroni', alpha=0.1)\n",
    "pline = Pipeline([('ftest', ftcorr), ('lr', lr)])"
   ]
  },
  {
   "cell_type": "code",
   "execution_count": 19,
   "metadata": {},
   "outputs": [
    {
     "data": {
      "text/plain": [
       "0.9123861550127714"
      ]
     },
     "execution_count": 19,
     "metadata": {},
     "output_type": "execute_result"
    }
   ],
   "source": [
    "cross_val_score(estimator=pline, X=X,\n",
    "                y=y, cv=StratifiedKFold(n_splits=5, shuffle=True), scoring=\"roc_auc\").mean()"
   ]
  },
  {
   "cell_type": "code",
   "execution_count": 20,
   "metadata": {},
   "outputs": [],
   "source": [
    "ftcorr = FTestCorrector(method='fdr', alpha=0.1)\n",
    "pline = Pipeline([('ftest', ftcorr), ('lr', lr)])"
   ]
  },
  {
   "cell_type": "code",
   "execution_count": 21,
   "metadata": {},
   "outputs": [
    {
     "data": {
      "text/plain": [
       "0.9214531449553002"
      ]
     },
     "execution_count": 21,
     "metadata": {},
     "output_type": "execute_result"
    }
   ],
   "source": [
    "cross_val_score(estimator=pline, X=X,\n",
    "                y=y, cv=StratifiedKFold(n_splits=5, shuffle=True), scoring=\"roc_auc\").mean()"
   ]
  },
  {
   "cell_type": "code",
   "execution_count": 22,
   "metadata": {},
   "outputs": [],
   "source": [
    "from xgboost import XGBClassifier\n",
    "from sklearn.svm import SVC, LinearSVC\n",
    "from sklearn.naive_bayes import GaussianNB\n",
    "from sklearn.neighbors import KNeighborsClassifier\n",
    "from sklearn.linear_model import LogisticRegression\n",
    "from sklearn.metrics import roc_auc_score\n",
    "import warnings\n",
    "warnings.simplefilter(action='ignore', category=FutureWarning)\n",
    "import warnings\n",
    "warnings.filterwarnings(\"ignore\")\n",
    "\n",
    "models = {\n",
    "    'LogisticRegression': LogisticRegression(),\n",
    "    'GaussianNB': GaussianNB(),\n",
    "    'KNeighborsClassifier': KNeighborsClassifier(),\n",
    "    'XGBClassifier': XGBClassifier()\n",
    "}"
   ]
  },
  {
   "cell_type": "code",
   "execution_count": 23,
   "metadata": {
    "scrolled": true
   },
   "outputs": [
    {
     "name": "stdout",
     "output_type": "stream",
     "text": [
      "Processing LogisticRegression bonferroni\n",
      "Processing LogisticRegression fdr\n",
      "Processing GaussianNB bonferroni\n",
      "Processing GaussianNB fdr\n",
      "Processing KNeighborsClassifier bonferroni\n",
      "Processing KNeighborsClassifier fdr\n",
      "Processing XGBClassifier bonferroni\n",
      "Processing XGBClassifier fdr\n"
     ]
    }
   ],
   "source": [
    "# Будем классифицировать по отдельным людям и по 12 сессиям отдельно.\n",
    "cv = 10\n",
    "alpha = 0.01\n",
    "methods = ['bonferroni', 'fdr']\n",
    "\n",
    "\n",
    "scores = defaultdict(lambda: defaultdict(float))\n",
    "for model in models:\n",
    "    for method in methods:\n",
    "        print(\"Processing %s %s\" % (model, method))\n",
    "        ftcorr = FTestCorrector(method=method, alpha=alpha)\n",
    "        pline = Pipeline([('ftest', ftcorr), (model, models[model])])\n",
    "        scores[model][method] = cross_val_score(estimator=pline, X=X,\n",
    "                                                y=y, cv=StratifiedKFold(n_splits=cv, shuffle=True), scoring=\"roc_auc\")"
   ]
  },
  {
   "cell_type": "code",
   "execution_count": 24,
   "metadata": {},
   "outputs": [
    {
     "data": {
      "image/png": "[encoded data removed]",
      "text/plain": [
       "<Figure size 864x576 with 1 Axes>"
      ]
     },
     "metadata": {
      "needs_background": "light"
     },
     "output_type": "display_data"
    }
   ],
   "source": [
    "plt.figure(figsize=(12, 8))\n",
    "\n",
    "tick_position = np.arange(len(models))\n",
    "plt.xticks(tick_position, models.keys(), rotation=45)\n",
    "\n",
    "for color, method in zip('rg', methods):\n",
    "    score_means = [scores[model][method].mean() for model in models]\n",
    "    score_stds = [scores[model][method].std() for model in models]\n",
    "    plt.errorbar(tick_position, score_means, yerr=score_stds, fmt='.', lw=4, alpha=0.8, label=method, \n",
    "                 color=color)\n",
    "    tick_position = tick_position + .25\n",
    "\n",
    "plt.ylabel('ROC-AUC')\n",
    "plt.xlabel('Visual stimuli category')\n",
    "plt.ylim(0.5, 1.)\n",
    "plt.legend(loc='lower right')\n",
    "plt.show()"
   ]
  },
  {
   "cell_type": "markdown",
   "metadata": {},
   "source": [
    "# 4. Апостериорные тесты (Tukey, Holm-Sidak tests и другие)"
   ]
  },
  {
   "cell_type": "markdown",
   "metadata": {},
   "source": [
    "![](cylinders.jpeg)\n",
    "\n",
    "Здесь мы будем смотреть на MPG(=Miles Per Gallon) и сравнивать их средние значения для разных количеств цилиндров с помощью разных тестов на множественные сравнения."
   ]
  },
  {
   "cell_type": "code",
   "execution_count": 25,
   "metadata": {},
   "outputs": [],
   "source": [
    "data = pd.read_csv('./auto_mpg.data',sep='\\s+',names = ['MPG','Cylinders','Displacement','Horse power','Weight','Acceleration','Model Year','Origin','Car Name'])"
   ]
  },
  {
   "cell_type": "code",
   "execution_count": 26,
   "metadata": {},
   "outputs": [],
   "source": [
    "cylinders = data.Cylinders.values\n",
    "mpg = data.MPG.values"
   ]
  },
  {
   "cell_type": "code",
   "execution_count": 27,
   "metadata": {},
   "outputs": [],
   "source": [
    "cylinders_unique = np.unique(cylinders)"
   ]
  },
  {
   "cell_type": "code",
   "execution_count": null,
   "metadata": {},
   "outputs": [],
   "source": [
    "plt.figure(figsize=(12, 8))\n",
    "for cylinder in cylinders_unique:\n",
    "    plt.hist(mpg[cylinders==cylinder], bins=30, alpha=0.5, label='#{}'.format(cylinder), density=True)\n",
    "plt.legend()\n",
    "plt.show()"
   ]
  },
  {
   "cell_type": "code",
   "execution_count": null,
   "metadata": {},
   "outputs": [],
   "source": [
    "from statsmodels.sandbox.stats.multicomp import MultiComparison"
   ]
  },
  {
   "cell_type": "code",
   "execution_count": null,
   "metadata": {},
   "outputs": [],
   "source": [
    "from statsmodels.stats.multitest import multipletests"
   ]
  },
  {
   "cell_type": "code",
   "execution_count": null,
   "metadata": {},
   "outputs": [],
   "source": [
    "multicomp = MultiComparison(mpg, cylinders)"
   ]
  },
  {
   "cell_type": "markdown",
   "metadata": {},
   "source": [
    "## Пакет `statsmodels`\n",
    "\n",
    "Пакет `statsmodels` содержит прекрасные функции `MultiComparison` и `multipletests` в которых реализованы практически все возможные тесты.\n",
    "\n",
    "![](types_corrections.png)"
   ]
  },
  {
   "cell_type": "code",
   "execution_count": null,
   "metadata": {},
   "outputs": [],
   "source": [
    "['bonferroni', 'sidak', 'holm-sidak', 'holm', \n",
    " 'simes-hochberg', 'hommel', 'fdr_bh', 'fdr_by', \n",
    " 'fdr_tsbh', 'fdr_tsbky']"
   ]
  },
  {
   "cell_type": "markdown",
   "metadata": {},
   "source": [
    "Всё что нужно, это указать какой именно тест для множественных сравнений вы используете и функцию, которая генерирует p-values для пар групп.\n",
    "\n",
    "К примеру, мы можем посмотреть на то как работает t-тест и критерий Манна-Уитни с Benjamini/Hochberg коррекцией для нашей задачи."
   ]
  },
  {
   "cell_type": "code",
   "execution_count": null,
   "metadata": {},
   "outputs": [],
   "source": [
    "from scipy.stats import ttest_ind, mannwhitneyu"
   ]
  },
  {
   "cell_type": "markdown",
   "metadata": {},
   "source": [
    "### Критерий Манна-Уитни c Bonferroni и Benjamini/Hochberg коррекцией"
   ]
  },
  {
   "cell_type": "code",
   "execution_count": null,
   "metadata": {},
   "outputs": [],
   "source": [
    "sumtab, *_ = multicomp.allpairtest(testfunc=mannwhitneyu, alpha=0.01, \n",
    "                                   method='bonferroni')"
   ]
  },
  {
   "cell_type": "code",
   "execution_count": null,
   "metadata": {},
   "outputs": [],
   "source": [
    "sumtab"
   ]
  },
  {
   "cell_type": "code",
   "execution_count": null,
   "metadata": {},
   "outputs": [],
   "source": [
    "sumtab, *_ = multicomp.allpairtest(testfunc=mannwhitneyu, alpha=0.01, \n",
    "                                   method='fdr_bh')"
   ]
  },
  {
   "cell_type": "code",
   "execution_count": null,
   "metadata": {},
   "outputs": [],
   "source": [
    "sumtab"
   ]
  },
  {
   "cell_type": "markdown",
   "metadata": {},
   "source": [
    "### t-тест c Benjamini/Hochberg коррекцией"
   ]
  },
  {
   "cell_type": "code",
   "execution_count": null,
   "metadata": {},
   "outputs": [],
   "source": [
    "sumtab, *_ = multicomp.allpairtest(testfunc=ttest_ind, alpha=0.01, \n",
    "                                   method='fdr_bh')"
   ]
  },
  {
   "cell_type": "code",
   "execution_count": null,
   "metadata": {},
   "outputs": [],
   "source": [
    "sumtab"
   ]
  },
  {
   "cell_type": "markdown",
   "metadata": {},
   "source": [
    "### Критерий Манна-Уитни c Holm-Sidak коррекцией\n",
    "\n",
    "\n",
    "Очень похож на Бонферрони, но граничные $\\alpha$ для $m$ гипотез считаются следующим образом:\n",
    "\n",
    "$$ \\alpha_{(1)} = 1 - (1 - \\alpha)^{1/m},  \\alpha_{(2)} = 1 - (1 - \\alpha)^{1/(m-1)}, \\dots, \\alpha_{(m)} = 1 - (1 - \\alpha)^{1}$$\n",
    "\n",
    "Этот тест более мощный чем Бонферрони."
   ]
  },
  {
   "cell_type": "code",
   "execution_count": null,
   "metadata": {},
   "outputs": [],
   "source": [
    "sumtab, *_ = multicomp.allpairtest(testfunc=ttest_ind, alpha=0.01, \n",
    "                                   method='holm-sidak')"
   ]
  },
  {
   "cell_type": "code",
   "execution_count": null,
   "metadata": {},
   "outputs": [],
   "source": [
    "sumtab"
   ]
  },
  {
   "cell_type": "code",
   "execution_count": null,
   "metadata": {},
   "outputs": [],
   "source": [
    "plt.figure(figsize=(12, 8))\n",
    "for cylinder in cylinders_unique:\n",
    "    plt.hist(mpg[cylinders==cylinder], bins=30, alpha=0.5, label='#{}'.format(cylinder), density=True)\n",
    "plt.legend()\n",
    "plt.show()"
   ]
  },
  {
   "cell_type": "code",
   "execution_count": null,
   "metadata": {},
   "outputs": [],
   "source": []
  },
  {
   "cell_type": "code",
   "execution_count": null,
   "metadata": {},
   "outputs": [],
   "source": []
  },
  {
   "cell_type": "code",
   "execution_count": null,
   "metadata": {},
   "outputs": [],
   "source": []
  }
 ],
 "metadata": {
  "kernelspec": {
   "display_name": "Python 3",
   "language": "python",
   "name": "python3"
  },
  "language_info": {
   "codemirror_mode": {
    "name": "ipython",
    "version": 3
   },
   "file_extension": ".py",
   "mimetype": "text/x-python",
   "name": "python",
   "nbconvert_exporter": "python",
   "pygments_lexer": "ipython3",
   "version": "3.6.8"
  }
 },
 "nbformat": 4,
 "nbformat_minor": 2
}
